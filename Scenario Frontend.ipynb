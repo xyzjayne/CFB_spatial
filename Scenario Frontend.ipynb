{
 "cells": [
  {
   "cell_type": "code",
   "execution_count": 1,
   "metadata": {
    "scrolled": true
   },
   "outputs": [],
   "source": [
    "import sys, os\n",
    "\n",
    "import config\n",
    "import mode_choice\n",
    "import mc_util\n",
    "import scenario_editor as se\n",
    "\n",
    "mc = mode_choice.Mode_Choice(config,run_now = False)"
   ]
  },
  {
   "cell_type": "code",
   "execution_count": 2,
   "metadata": {},
   "outputs": [
    {
     "name": "stdout",
     "output_type": "stream",
     "text": [
      "✓ TAZ / land use / parking / zonal variables read. Time elapsed: 0.15 seconds\n",
      "✓ skims read. Time elapsed: 17.82 seconds\n",
      "✓ trip table read. Time elapsed: 26.36 seconds\n",
      "✓ zonal variable tables generated. Time elapsed: 26.79 seconds\n",
      "Running for all purposes...\n",
      "Mode choice for HBW started.\n",
      "✓ Parameter table for HBW generated. Time elapsed: 26.98 seconds\n",
      "✓ Trips for 0_PK calculated. Time elapsed: 40.03 seconds\n",
      "✓ Trips for 1_PK calculated. Time elapsed: 50.76 seconds\n",
      "✓ Trips for 0_OP calculated. Time elapsed: 62.43 seconds\n",
      "✓ Trips for 1_OP calculated. Time elapsed: 73.14 seconds\n",
      "Mode choice for HBO started.\n",
      "✓ Parameter table for HBO generated. Time elapsed: 74.05 seconds\n",
      "✓ Trips for 0_PK calculated. Time elapsed: 81.29 seconds\n",
      "✓ Trips for 1_PK calculated. Time elapsed: 88.81 seconds\n",
      "✓ Trips for 0_OP calculated. Time elapsed: 96.32 seconds\n",
      "✓ Trips for 1_OP calculated. Time elapsed: 103.85 seconds\n",
      "Mode choice for NHB started.\n",
      "✓ Parameter table for NHB generated. Time elapsed: 104.51 seconds\n",
      "✓ Trips for 0_PK calculated. Time elapsed: 112.72 seconds\n",
      "✓ Trips for 1_PK calculated. Time elapsed: 124.51 seconds\n",
      "✓ Trips for 0_OP calculated. Time elapsed: 134.53 seconds\n",
      "✓ Trips for 1_OP calculated. Time elapsed: 143.84 seconds\n",
      "Mode choice for HBSc1 started.\n",
      "✓ Parameter table for HBSc1 generated. Time elapsed: 144.85 seconds\n",
      "✓ Trips for 0_PK calculated. Time elapsed: 151.14 seconds\n",
      "✓ Trips for 1_PK calculated. Time elapsed: 157.04 seconds\n",
      "✓ Trips for 0_OP calculated. Time elapsed: 162.92 seconds\n",
      "✓ Trips for 1_OP calculated. Time elapsed: 168.79 seconds\n",
      "Mode choice for HBSc2 started.\n",
      "✓ Parameter table for HBSc2 generated. Time elapsed: 169.33 seconds\n",
      "✓ Trips for 0_PK calculated. Time elapsed: 174.98 seconds\n",
      "✓ Trips for 1_PK calculated. Time elapsed: 180.86 seconds\n",
      "✓ Trips for 0_OP calculated. Time elapsed: 186.88 seconds\n",
      "✓ Trips for 1_OP calculated. Time elapsed: 193.12 seconds\n",
      "Mode choice for HBSc3 started.\n",
      "✓ Parameter table for HBSc3 generated. Time elapsed: 193.77 seconds\n",
      "✓ Trips for 0_PK calculated. Time elapsed: 201.90 seconds\n",
      "✓ Trips for 1_PK calculated. Time elapsed: 211.18 seconds\n",
      "✓ Trips for 0_OP calculated. Time elapsed: 219.31 seconds\n",
      "✓ Trips for 1_OP calculated. Time elapsed: 226.98 seconds\n"
     ]
    }
   ],
   "source": [
    "mc.load_input()\n",
    "mc.run_model(all_purposes = True)\n",
    "\n",
    "# default behavior: write mode share tables"
   ]
  },
  {
   "cell_type": "code",
   "execution_count": 3,
   "metadata": {},
   "outputs": [],
   "source": [
    "mc_util.write_summary_by_subregion(mc,out_path = config.out_path)"
   ]
  },
  {
   "cell_type": "code",
   "execution_count": 3,
   "metadata": {},
   "outputs": [
    {
     "data": {
      "text/html": [
       "<style  type=\"text/css\" >\n",
       "</style>  \n",
       "<table id=\"T_6834e512_8190_11e9_9015_9c5c8e97c670\" > \n",
       "<thead>    <tr> \n",
       "        <th class=\"blank level0\" ></th> \n",
       "        <th class=\"col_heading level0 col0\" >Bike</th> \n",
       "        <th class=\"col_heading level0 col1\" >DA</th> \n",
       "        <th class=\"col_heading level0 col2\" >DAT_B</th> \n",
       "        <th class=\"col_heading level0 col3\" >DAT_CR</th> \n",
       "        <th class=\"col_heading level0 col4\" >DAT_LB</th> \n",
       "        <th class=\"col_heading level0 col5\" >DAT_RT</th> \n",
       "        <th class=\"col_heading level0 col6\" >SR2</th> \n",
       "        <th class=\"col_heading level0 col7\" >SR3+</th> \n",
       "        <th class=\"col_heading level0 col8\" >WAT</th> \n",
       "        <th class=\"col_heading level0 col9\" >Walk</th> \n",
       "    </tr></thead> \n",
       "<tbody>    <tr> \n",
       "        <th id=\"T_6834e512_8190_11e9_9015_9c5c8e97c670level0_row0\" class=\"row_heading level0 row0\" >0_PK</th> \n",
       "        <td id=\"T_6834e512_8190_11e9_9015_9c5c8e97c670row0_col0\" class=\"data row0 col0\" >9.40%</td> \n",
       "        <td id=\"T_6834e512_8190_11e9_9015_9c5c8e97c670row0_col1\" class=\"data row0 col1\" >19.03%</td> \n",
       "        <td id=\"T_6834e512_8190_11e9_9015_9c5c8e97c670row0_col2\" class=\"data row0 col2\" >0.00%</td> \n",
       "        <td id=\"T_6834e512_8190_11e9_9015_9c5c8e97c670row0_col3\" class=\"data row0 col3\" >0.83%</td> \n",
       "        <td id=\"T_6834e512_8190_11e9_9015_9c5c8e97c670row0_col4\" class=\"data row0 col4\" >0.36%</td> \n",
       "        <td id=\"T_6834e512_8190_11e9_9015_9c5c8e97c670row0_col5\" class=\"data row0 col5\" >0.60%</td> \n",
       "        <td id=\"T_6834e512_8190_11e9_9015_9c5c8e97c670row0_col6\" class=\"data row0 col6\" >17.80%</td> \n",
       "        <td id=\"T_6834e512_8190_11e9_9015_9c5c8e97c670row0_col7\" class=\"data row0 col7\" >0.73%</td> \n",
       "        <td id=\"T_6834e512_8190_11e9_9015_9c5c8e97c670row0_col8\" class=\"data row0 col8\" >23.29%</td> \n",
       "        <td id=\"T_6834e512_8190_11e9_9015_9c5c8e97c670row0_col9\" class=\"data row0 col9\" >27.95%</td> \n",
       "    </tr>    <tr> \n",
       "        <th id=\"T_6834e512_8190_11e9_9015_9c5c8e97c670level0_row1\" class=\"row_heading level0 row1\" >1_PK</th> \n",
       "        <td id=\"T_6834e512_8190_11e9_9015_9c5c8e97c670row1_col0\" class=\"data row1 col0\" >2.25%</td> \n",
       "        <td id=\"T_6834e512_8190_11e9_9015_9c5c8e97c670row1_col1\" class=\"data row1 col1\" >56.26%</td> \n",
       "        <td id=\"T_6834e512_8190_11e9_9015_9c5c8e97c670row1_col2\" class=\"data row1 col2\" >0.04%</td> \n",
       "        <td id=\"T_6834e512_8190_11e9_9015_9c5c8e97c670row1_col3\" class=\"data row1 col3\" >0.83%</td> \n",
       "        <td id=\"T_6834e512_8190_11e9_9015_9c5c8e97c670row1_col4\" class=\"data row1 col4\" >0.33%</td> \n",
       "        <td id=\"T_6834e512_8190_11e9_9015_9c5c8e97c670row1_col5\" class=\"data row1 col5\" >0.19%</td> \n",
       "        <td id=\"T_6834e512_8190_11e9_9015_9c5c8e97c670row1_col6\" class=\"data row1 col6\" >27.51%</td> \n",
       "        <td id=\"T_6834e512_8190_11e9_9015_9c5c8e97c670row1_col7\" class=\"data row1 col7\" >0.75%</td> \n",
       "        <td id=\"T_6834e512_8190_11e9_9015_9c5c8e97c670row1_col8\" class=\"data row1 col8\" >3.78%</td> \n",
       "        <td id=\"T_6834e512_8190_11e9_9015_9c5c8e97c670row1_col9\" class=\"data row1 col9\" >8.06%</td> \n",
       "    </tr>    <tr> \n",
       "        <th id=\"T_6834e512_8190_11e9_9015_9c5c8e97c670level0_row2\" class=\"row_heading level0 row2\" >0_OP</th> \n",
       "        <td id=\"T_6834e512_8190_11e9_9015_9c5c8e97c670row2_col0\" class=\"data row2 col0\" >9.12%</td> \n",
       "        <td id=\"T_6834e512_8190_11e9_9015_9c5c8e97c670row2_col1\" class=\"data row2 col1\" >16.20%</td> \n",
       "        <td id=\"T_6834e512_8190_11e9_9015_9c5c8e97c670row2_col2\" class=\"data row2 col2\" >0.00%</td> \n",
       "        <td id=\"T_6834e512_8190_11e9_9015_9c5c8e97c670row2_col3\" class=\"data row2 col3\" >0.13%</td> \n",
       "        <td id=\"T_6834e512_8190_11e9_9015_9c5c8e97c670row2_col4\" class=\"data row2 col4\" >0.20%</td> \n",
       "        <td id=\"T_6834e512_8190_11e9_9015_9c5c8e97c670row2_col5\" class=\"data row2 col5\" >0.09%</td> \n",
       "        <td id=\"T_6834e512_8190_11e9_9015_9c5c8e97c670row2_col6\" class=\"data row2 col6\" >21.77%</td> \n",
       "        <td id=\"T_6834e512_8190_11e9_9015_9c5c8e97c670row2_col7\" class=\"data row2 col7\" >0.23%</td> \n",
       "        <td id=\"T_6834e512_8190_11e9_9015_9c5c8e97c670row2_col8\" class=\"data row2 col8\" >12.61%</td> \n",
       "        <td id=\"T_6834e512_8190_11e9_9015_9c5c8e97c670row2_col9\" class=\"data row2 col9\" >39.66%</td> \n",
       "    </tr>    <tr> \n",
       "        <th id=\"T_6834e512_8190_11e9_9015_9c5c8e97c670level0_row3\" class=\"row_heading level0 row3\" >1_OP</th> \n",
       "        <td id=\"T_6834e512_8190_11e9_9015_9c5c8e97c670row3_col0\" class=\"data row3 col0\" >1.13%</td> \n",
       "        <td id=\"T_6834e512_8190_11e9_9015_9c5c8e97c670row3_col1\" class=\"data row3 col1\" >52.72%</td> \n",
       "        <td id=\"T_6834e512_8190_11e9_9015_9c5c8e97c670row3_col2\" class=\"data row3 col2\" >0.00%</td> \n",
       "        <td id=\"T_6834e512_8190_11e9_9015_9c5c8e97c670row3_col3\" class=\"data row3 col3\" >0.15%</td> \n",
       "        <td id=\"T_6834e512_8190_11e9_9015_9c5c8e97c670row3_col4\" class=\"data row3 col4\" >0.40%</td> \n",
       "        <td id=\"T_6834e512_8190_11e9_9015_9c5c8e97c670row3_col5\" class=\"data row3 col5\" >0.09%</td> \n",
       "        <td id=\"T_6834e512_8190_11e9_9015_9c5c8e97c670row3_col6\" class=\"data row3 col6\" >33.90%</td> \n",
       "        <td id=\"T_6834e512_8190_11e9_9015_9c5c8e97c670row3_col7\" class=\"data row3 col7\" >0.22%</td> \n",
       "        <td id=\"T_6834e512_8190_11e9_9015_9c5c8e97c670row3_col8\" class=\"data row3 col8\" >1.81%</td> \n",
       "        <td id=\"T_6834e512_8190_11e9_9015_9c5c8e97c670row3_col9\" class=\"data row3 col9\" >9.58%</td> \n",
       "    </tr></tbody> \n",
       "</table> "
      ],
      "text/plain": [
       "<pandas.io.formats.style.Styler at 0x27887216d68>"
      ]
     },
     "metadata": {},
     "output_type": "display_data"
    }
   ],
   "source": [
    "# inspect results\n",
    "mc_util.write_trip_tables(mc, config.out_path +  '2040_trips_no_scenario.omx')\n",
    "mc_util.display_mode_share(mc)"
   ]
  },
  {
   "cell_type": "code",
   "execution_count": 4,
   "metadata": {},
   "outputs": [
    {
     "data": {
      "text/plain": [
       "<module 'scenario_editor' from 'C:\\\\Users\\\\xy.chang\\\\Documents\\\\CFB\\\\Files\\\\2040\\\\scenario_editor.py'>"
      ]
     },
     "execution_count": 4,
     "metadata": {},
     "output_type": "execute_result"
    }
   ],
   "source": [
    "\n",
    "import imp\n",
    "imp.reload(se)\n"
   ]
  },
  {
   "cell_type": "code",
   "execution_count": 4,
   "metadata": {
    "scrolled": true
   },
   "outputs": [
    {
     "data": {
      "text/plain": [
       "{'clean_vehicle': False,\n",
       " 'growth_shift': False,\n",
       " 'transit_improvements': False,\n",
       " 'active_transportation_improvements': False,\n",
       " 'TDM': False,\n",
       " 'CAV': False,\n",
       " 'smart_mobility': False,\n",
       " 'congestion_charge': False}"
      ]
     },
     "metadata": {},
     "output_type": "display_data"
    }
   ],
   "source": [
    "from IPython.display import display\n",
    "display(config.scenario_switches)"
   ]
  },
  {
   "cell_type": "code",
   "execution_count": 13,
   "metadata": {
    "scrolled": true
   },
   "outputs": [
    {
     "name": "stdout",
     "output_type": "stream",
     "text": [
      "✓ TAZ / land use / parking / zonal variables read. Time elapsed: 0.11 seconds\n",
      "✓ skims read. Time elapsed: 18.00 seconds\n",
      "✓ trip table read. Time elapsed: 27.30 seconds\n",
      "✓ zonal variable tables generated. Time elapsed: 27.85 seconds\n",
      "\"Congestion Charge\" enabled: $5 toll charge for auto trips entering central Boston.\n",
      "Running for all purposes...\n",
      "Mode choice for HBW started.\n",
      "✓ Parameter table for HBW generated. Time elapsed: 27.98 seconds\n",
      "✓ Trips for 0_PK calculated. Time elapsed: 43.86 seconds\n",
      "✓ Trips for 1_PK calculated. Time elapsed: 54.55 seconds\n",
      "✓ Trips for 0_OP calculated. Time elapsed: 67.19 seconds\n",
      "✓ Trips for 1_OP calculated. Time elapsed: 81.59 seconds\n",
      "Mode choice for HBO started.\n",
      "✓ Parameter table for HBO generated. Time elapsed: 82.77 seconds\n",
      "✓ Trips for 0_PK calculated. Time elapsed: 90.44 seconds\n",
      "✓ Trips for 1_PK calculated. Time elapsed: 97.99 seconds\n",
      "✓ Trips for 0_OP calculated. Time elapsed: 105.53 seconds\n",
      "✓ Trips for 1_OP calculated. Time elapsed: 113.27 seconds\n",
      "Mode choice for NHB started.\n",
      "✓ Parameter table for NHB generated. Time elapsed: 114.01 seconds\n",
      "✓ Trips for 0_PK calculated. Time elapsed: 123.06 seconds\n",
      "✓ Trips for 1_PK calculated. Time elapsed: 134.90 seconds\n",
      "✓ Trips for 0_OP calculated. Time elapsed: 145.25 seconds\n",
      "✓ Trips for 1_OP calculated. Time elapsed: 154.48 seconds\n",
      "Mode choice for HBSc1 started.\n",
      "✓ Parameter table for HBSc1 generated. Time elapsed: 155.62 seconds\n",
      "✓ Trips for 0_PK calculated. Time elapsed: 161.80 seconds\n",
      "✓ Trips for 1_PK calculated. Time elapsed: 167.62 seconds\n",
      "✓ Trips for 0_OP calculated. Time elapsed: 173.59 seconds\n",
      "✓ Trips for 1_OP calculated. Time elapsed: 179.57 seconds\n",
      "Mode choice for HBSc2 started.\n",
      "✓ Parameter table for HBSc2 generated. Time elapsed: 180.12 seconds\n",
      "✓ Trips for 0_PK calculated. Time elapsed: 185.79 seconds\n",
      "✓ Trips for 1_PK calculated. Time elapsed: 191.78 seconds\n",
      "✓ Trips for 0_OP calculated. Time elapsed: 197.85 seconds\n",
      "✓ Trips for 1_OP calculated. Time elapsed: 206.26 seconds\n",
      "Mode choice for HBSc3 started.\n",
      "✓ Parameter table for HBSc3 generated. Time elapsed: 206.91 seconds\n",
      "✓ Trips for 0_PK calculated. Time elapsed: 215.02 seconds\n",
      "✓ Trips for 1_PK calculated. Time elapsed: 223.40 seconds\n",
      "✓ Trips for 0_OP calculated. Time elapsed: 231.36 seconds\n",
      "✓ Trips for 1_OP calculated. Time elapsed: 238.90 seconds\n",
      "Scenario run is finished. You may now call methods in mc_util to produce output summaries.\n"
     ]
    },
    {
     "name": "stderr",
     "output_type": "stream",
     "text": [
      "C:\\ProgramData\\Anaconda3\\lib\\site-packages\\pandas\\core\\frame.py:6201: FutureWarning: Sorting because non-concatenation axis is not aligned. A future version\n",
      "of pandas will change to not sort by default.\n",
      "\n",
      "To accept the future behavior, pass 'sort=True'.\n",
      "\n",
      "To retain the current behavior and silence the warning, pass sort=False\n",
      "\n",
      "  sort=sort)\n"
     ]
    }
   ],
   "source": [
    "# For loop to automatically implement each scenario.\n",
    "for scenario in [\n",
    " #   'clean_vehicle', # init\n",
    "#    'growth_shift', # load input\n",
    "#    'transit_improvements', # load input\n",
    "#    'active_transportation_improvements', # load input\n",
    "#    'TDM', # requires a full run\n",
    "#    'CAV', \n",
    "#    'smart_mobility', # cannot be implemented\n",
    "    'congestion_charge']:\n",
    "# step 1: revert to non-implementation\n",
    "    mc = mode_choice.Mode_Choice(config, run_now=False)\n",
    "    mc.load_input()\n",
    "    # mc.run_model(all_purposes = True)\n",
    "# step 2: turn on scenario, turn off everything else\n",
    "    for key in config.scenario_switches:\n",
    "        config.scenario_switches[key] = False\n",
    "    config.scenario_switches[scenario] = True\n",
    "    \n",
    "    if scenario == 'TDM':\n",
    "        mc.run_model(all_purposes = True)\n",
    "    \n",
    "    se.implement_scenarios(mc)\n",
    "# step 3: save key outputs\n",
    "    try:\n",
    "        os.mkdir(config.out_path + scenario)\n",
    "    except:\n",
    "        pass\n",
    "    mc_util.write_mode_share_to_excel(mc,purpose = 'all',out_excel_fn = config.out_path + scenario +'_mode_share.xlsx')\n",
    "    \n",
    "    for by in [None, 'peak','veh_own','purpose']:\n",
    "        mc_util.vmt_by_neighborhood(mc, by = by, out_fn = config.out_path + scenario+f'_vmt_by_neighborhood_{by}.csv')\n",
    "        mc_util.pmt_by_neighborhood(mc, by = by, out_fn = config.out_path + scenario+f'_pmt_by_neighborhood_{by}.csv')\n",
    "        mc_util.mode_share_by_neighborhood(mc, by = by , out_fn = config.out_path + scenario+f'_mode_share_nhood_{by}.csv')\n",
    "    \n",
    "\n",
    "    mc_util.write_summary_by_subregion(mc,out_path = config.out_path + scenario + '/')\n",
    "    \n",
    "    mc_util.write_trip_tables(mc, r'..\\output\\2040_trips_'+ scenario + '.omx')\n",
    "    \n",
    "    "
   ]
  },
  {
   "cell_type": "code",
   "execution_count": 4,
   "metadata": {},
   "outputs": [
    {
     "name": "stdout",
     "output_type": "stream",
     "text": [
      "\"Transit Improvements\" enabled: Decrease transit travel time by 30% for TAZs impacted by Go Boston transit improvement projects.\n",
      "Running for all purposes...\n",
      "Mode choice for HBW started.\n",
      "✓ Parameter table for HBW generated. Time elapsed: 221.42 seconds\n",
      "✓ Trips for 0_PK calculated. Time elapsed: 233.80 seconds\n",
      "✓ Trips for 1_PK calculated. Time elapsed: 245.09 seconds\n",
      "✓ Trips for 0_OP calculated. Time elapsed: 257.51 seconds\n",
      "✓ Trips for 1_OP calculated. Time elapsed: 269.11 seconds\n",
      "Mode choice for HBO started.\n",
      "✓ Parameter table for HBO generated. Time elapsed: 270.08 seconds\n",
      "✓ Trips for 0_PK calculated. Time elapsed: 277.25 seconds\n",
      "✓ Trips for 1_PK calculated. Time elapsed: 284.60 seconds\n",
      "✓ Trips for 0_OP calculated. Time elapsed: 292.09 seconds\n",
      "✓ Trips for 1_OP calculated. Time elapsed: 300.26 seconds\n",
      "Mode choice for NHB started.\n",
      "✓ Parameter table for NHB generated. Time elapsed: 300.99 seconds\n",
      "✓ Trips for 0_PK calculated. Time elapsed: 310.48 seconds\n",
      "✓ Trips for 1_PK calculated. Time elapsed: 320.32 seconds\n",
      "✓ Trips for 0_OP calculated. Time elapsed: 328.76 seconds\n",
      "✓ Trips for 1_OP calculated. Time elapsed: 337.64 seconds\n",
      "Mode choice for HBSc1 started.\n",
      "✓ Parameter table for HBSc1 generated. Time elapsed: 338.49 seconds\n",
      "✓ Trips for 0_PK calculated. Time elapsed: 344.24 seconds\n",
      "✓ Trips for 1_PK calculated. Time elapsed: 349.90 seconds\n",
      "✓ Trips for 0_OP calculated. Time elapsed: 355.74 seconds\n",
      "✓ Trips for 1_OP calculated. Time elapsed: 361.38 seconds\n",
      "Mode choice for HBSc2 started.\n",
      "✓ Parameter table for HBSc2 generated. Time elapsed: 361.95 seconds\n",
      "✓ Trips for 0_PK calculated. Time elapsed: 367.52 seconds\n",
      "✓ Trips for 1_PK calculated. Time elapsed: 373.44 seconds\n",
      "✓ Trips for 0_OP calculated. Time elapsed: 381.03 seconds\n",
      "✓ Trips for 1_OP calculated. Time elapsed: 389.00 seconds\n",
      "Mode choice for HBSc3 started.\n",
      "✓ Parameter table for HBSc3 generated. Time elapsed: 389.66 seconds\n",
      "✓ Trips for 0_PK calculated. Time elapsed: 396.45 seconds\n",
      "✓ Trips for 1_PK calculated. Time elapsed: 403.82 seconds\n",
      "✓ Trips for 0_OP calculated. Time elapsed: 411.79 seconds\n",
      "✓ Trips for 1_OP calculated. Time elapsed: 419.07 seconds\n",
      "Scenario run is finished. You may now call methods in mc_util to produce output summaries.\n"
     ]
    }
   ],
   "source": [
    "se.implement_scenarios(mc)"
   ]
  },
  {
   "cell_type": "code",
   "execution_count": 5,
   "metadata": {},
   "outputs": [
    {
     "data": {
      "text/html": [
       "<style  type=\"text/css\" >\n",
       "</style>  \n",
       "<table id=\"T_a1358cde_71c5_11e9_b9a0_9c5c8e97c636\" > \n",
       "<thead>    <tr> \n",
       "        <th class=\"index_name level0\" >mode</th> \n",
       "        <th class=\"col_heading level0 col0\" >DA</th> \n",
       "        <th class=\"col_heading level0 col1\" >SR2</th> \n",
       "        <th class=\"col_heading level0 col2\" >Walk</th> \n",
       "        <th class=\"col_heading level0 col3\" >Bike</th> \n",
       "        <th class=\"col_heading level0 col4\" >WAT</th> \n",
       "        <th class=\"col_heading level0 col5\" >DAT_CR</th> \n",
       "        <th class=\"col_heading level0 col6\" >DAT_RT</th> \n",
       "        <th class=\"col_heading level0 col7\" >DAT_LB</th> \n",
       "    </tr></thead> \n",
       "<tbody>    <tr> \n",
       "        <th id=\"T_a1358cde_71c5_11e9_b9a0_9c5c8e97c636level0_row0\" class=\"row_heading level0 row0\" >0_PK</th> \n",
       "        <td id=\"T_a1358cde_71c5_11e9_b9a0_9c5c8e97c636row0_col0\" class=\"data row0 col0\" >5.34%</td> \n",
       "        <td id=\"T_a1358cde_71c5_11e9_b9a0_9c5c8e97c636row0_col1\" class=\"data row0 col1\" >30.57%</td> \n",
       "        <td id=\"T_a1358cde_71c5_11e9_b9a0_9c5c8e97c636row0_col2\" class=\"data row0 col2\" >19.13%</td> \n",
       "        <td id=\"T_a1358cde_71c5_11e9_b9a0_9c5c8e97c636row0_col3\" class=\"data row0 col3\" >0.28%</td> \n",
       "        <td id=\"T_a1358cde_71c5_11e9_b9a0_9c5c8e97c636row0_col4\" class=\"data row0 col4\" >32.17%</td> \n",
       "        <td id=\"T_a1358cde_71c5_11e9_b9a0_9c5c8e97c636row0_col5\" class=\"data row0 col5\" >4.79%</td> \n",
       "        <td id=\"T_a1358cde_71c5_11e9_b9a0_9c5c8e97c636row0_col6\" class=\"data row0 col6\" >4.06%</td> \n",
       "        <td id=\"T_a1358cde_71c5_11e9_b9a0_9c5c8e97c636row0_col7\" class=\"data row0 col7\" >3.66%</td> \n",
       "    </tr>    <tr> \n",
       "        <th id=\"T_a1358cde_71c5_11e9_b9a0_9c5c8e97c636level0_row1\" class=\"row_heading level0 row1\" >1_PK</th> \n",
       "        <td id=\"T_a1358cde_71c5_11e9_b9a0_9c5c8e97c636row1_col0\" class=\"data row1 col0\" >57.72%</td> \n",
       "        <td id=\"T_a1358cde_71c5_11e9_b9a0_9c5c8e97c636row1_col1\" class=\"data row1 col1\" >19.36%</td> \n",
       "        <td id=\"T_a1358cde_71c5_11e9_b9a0_9c5c8e97c636row1_col2\" class=\"data row1 col2\" >9.50%</td> \n",
       "        <td id=\"T_a1358cde_71c5_11e9_b9a0_9c5c8e97c636row1_col3\" class=\"data row1 col3\" >0.83%</td> \n",
       "        <td id=\"T_a1358cde_71c5_11e9_b9a0_9c5c8e97c636row1_col4\" class=\"data row1 col4\" >10.39%</td> \n",
       "        <td id=\"T_a1358cde_71c5_11e9_b9a0_9c5c8e97c636row1_col5\" class=\"data row1 col5\" >0.60%</td> \n",
       "        <td id=\"T_a1358cde_71c5_11e9_b9a0_9c5c8e97c636row1_col6\" class=\"data row1 col6\" >1.07%</td> \n",
       "        <td id=\"T_a1358cde_71c5_11e9_b9a0_9c5c8e97c636row1_col7\" class=\"data row1 col7\" >0.54%</td> \n",
       "    </tr>    <tr> \n",
       "        <th id=\"T_a1358cde_71c5_11e9_b9a0_9c5c8e97c636level0_row2\" class=\"row_heading level0 row2\" >0_OP</th> \n",
       "        <td id=\"T_a1358cde_71c5_11e9_b9a0_9c5c8e97c636row2_col0\" class=\"data row2 col0\" >4.64%</td> \n",
       "        <td id=\"T_a1358cde_71c5_11e9_b9a0_9c5c8e97c636row2_col1\" class=\"data row2 col1\" >44.05%</td> \n",
       "        <td id=\"T_a1358cde_71c5_11e9_b9a0_9c5c8e97c636row2_col2\" class=\"data row2 col2\" >20.51%</td> \n",
       "        <td id=\"T_a1358cde_71c5_11e9_b9a0_9c5c8e97c636row2_col3\" class=\"data row2 col3\" >0.23%</td> \n",
       "        <td id=\"T_a1358cde_71c5_11e9_b9a0_9c5c8e97c636row2_col4\" class=\"data row2 col4\" >19.29%</td> \n",
       "        <td id=\"T_a1358cde_71c5_11e9_b9a0_9c5c8e97c636row2_col5\" class=\"data row2 col5\" >4.27%</td> \n",
       "        <td id=\"T_a1358cde_71c5_11e9_b9a0_9c5c8e97c636row2_col6\" class=\"data row2 col6\" >3.95%</td> \n",
       "        <td id=\"T_a1358cde_71c5_11e9_b9a0_9c5c8e97c636row2_col7\" class=\"data row2 col7\" >3.06%</td> \n",
       "    </tr>    <tr> \n",
       "        <th id=\"T_a1358cde_71c5_11e9_b9a0_9c5c8e97c636level0_row3\" class=\"row_heading level0 row3\" >1_OP</th> \n",
       "        <td id=\"T_a1358cde_71c5_11e9_b9a0_9c5c8e97c636row3_col0\" class=\"data row3 col0\" >66.70%</td> \n",
       "        <td id=\"T_a1358cde_71c5_11e9_b9a0_9c5c8e97c636row3_col1\" class=\"data row3 col1\" >17.81%</td> \n",
       "        <td id=\"T_a1358cde_71c5_11e9_b9a0_9c5c8e97c636row3_col2\" class=\"data row3 col2\" >3.11%</td> \n",
       "        <td id=\"T_a1358cde_71c5_11e9_b9a0_9c5c8e97c636row3_col3\" class=\"data row3 col3\" >0.93%</td> \n",
       "        <td id=\"T_a1358cde_71c5_11e9_b9a0_9c5c8e97c636row3_col4\" class=\"data row3 col4\" >9.64%</td> \n",
       "        <td id=\"T_a1358cde_71c5_11e9_b9a0_9c5c8e97c636row3_col5\" class=\"data row3 col5\" >0.42%</td> \n",
       "        <td id=\"T_a1358cde_71c5_11e9_b9a0_9c5c8e97c636row3_col6\" class=\"data row3 col6\" >0.93%</td> \n",
       "        <td id=\"T_a1358cde_71c5_11e9_b9a0_9c5c8e97c636row3_col7\" class=\"data row3 col7\" >0.45%</td> \n",
       "    </tr></tbody> \n",
       "</table> "
      ],
      "text/plain": [
       "<pandas.io.formats.style.Styler at 0x1bacb589ef0>"
      ]
     },
     "metadata": {},
     "output_type": "display_data"
    }
   ],
   "source": [
    "mc_util.display_mode_share(mc)"
   ]
  },
  {
   "cell_type": "code",
   "execution_count": 8,
   "metadata": {
    "collapsed": true
   },
   "outputs": [],
   "source": [
    "mc_util.write_mode_share_to_excel(mc,purpose = 'all',out_excel_fn = config.out_path + 'mode_share_transit_improv.xlsx')"
   ]
  },
  {
   "cell_type": "code",
   "execution_count": 5,
   "metadata": {
    "scrolled": true
   },
   "outputs": [
    {
     "name": "stderr",
     "output_type": "stream",
     "text": [
      "C:\\ProgramData\\Anaconda3\\lib\\site-packages\\pandas\\core\\frame.py:6211: FutureWarning: Sorting because non-concatenation axis is not aligned. A future version\n",
      "of pandas will change to not sort by default.\n",
      "\n",
      "To accept the future behavior, pass 'sort=False'.\n",
      "\n",
      "To retain the current behavior and silence the warning, pass 'sort=True'.\n",
      "\n",
      "  sort=sort)\n"
     ]
    }
   ],
   "source": [
    "mc_util.vmt_by_neighborhood(mc, by = 'purpose')"
   ]
  },
  {
   "cell_type": "code",
   "execution_count": 6,
   "metadata": {
    "collapsed": true
   },
   "outputs": [],
   "source": [
    "mc_util.pmt_by_neighborhood(mc, by = 'veh_own')"
   ]
  },
  {
   "cell_type": "code",
   "execution_count": 7,
   "metadata": {
    "collapsed": true
   },
   "outputs": [],
   "source": [
    "mc_util.mode_share_by_neighborhood(mc, by = 'peak')"
   ]
  },
  {
   "cell_type": "code",
   "execution_count": null,
   "metadata": {
    "collapsed": true
   },
   "outputs": [],
   "source": []
  },
  {
   "cell_type": "code",
   "execution_count": null,
   "metadata": {
    "collapsed": true
   },
   "outputs": [],
   "source": []
  },
  {
   "cell_type": "code",
   "execution_count": null,
   "metadata": {
    "collapsed": true
   },
   "outputs": [],
   "source": []
  },
  {
   "cell_type": "code",
   "execution_count": 3,
   "metadata": {},
   "outputs": [
    {
     "ename": "IndexError",
     "evalue": "boolean index did not match indexed array along dimension 0; dimension is 2730 but corresponding boolean dimension is 2727",
     "output_type": "error",
     "traceback": [
      "\u001b[1;31m---------------------------------------------------------------------------\u001b[0m",
      "\u001b[1;31mIndexError\u001b[0m                                Traceback (most recent call last)",
      "\u001b[1;32m<ipython-input-3-2d18aabf0d0a>\u001b[0m in \u001b[0;36m<module>\u001b[1;34m()\u001b[0m\n\u001b[1;32m----> 1\u001b[1;33m \u001b[0mmc_util\u001b[0m\u001b[1;33m.\u001b[0m\u001b[0mwrite_summary_by_subregion\u001b[0m\u001b[1;33m(\u001b[0m\u001b[0mmc\u001b[0m\u001b[1;33m)\u001b[0m\u001b[1;33m\u001b[0m\u001b[0m\n\u001b[0m",
      "\u001b[1;32m~\\Documents\\CFB\\Files\\2040\\mc_util.py\u001b[0m in \u001b[0;36mwrite_summary_by_subregion\u001b[1;34m(mc_obj, taz_fn, out_path)\u001b[0m\n\u001b[0;32m    489\u001b[0m         \u001b[0mmode_share_df\u001b[0m \u001b[1;33m=\u001b[0m \u001b[0mpd\u001b[0m\u001b[1;33m.\u001b[0m\u001b[0mDataFrame\u001b[0m\u001b[1;33m(\u001b[0m\u001b[0mindex\u001b[0m \u001b[1;33m=\u001b[0m \u001b[0msubregion_dict\u001b[0m\u001b[1;33m.\u001b[0m\u001b[0mvalues\u001b[0m\u001b[1;33m(\u001b[0m\u001b[1;33m)\u001b[0m\u001b[1;33m,\u001b[0m\u001b[0mcolumns\u001b[0m \u001b[1;33m=\u001b[0m \u001b[1;33m[\u001b[0m\u001b[1;34m'drive'\u001b[0m\u001b[1;33m,\u001b[0m\u001b[1;34m'non-motorized'\u001b[0m\u001b[1;33m,\u001b[0m\u001b[1;34m'transit'\u001b[0m\u001b[1;33m,\u001b[0m\u001b[1;34m'smart mobility'\u001b[0m\u001b[1;33m]\u001b[0m\u001b[1;33m)\u001b[0m\u001b[1;33m\u001b[0m\u001b[0m\n\u001b[0;32m    490\u001b[0m         \u001b[1;32mfor\u001b[0m \u001b[0msubregion\u001b[0m \u001b[1;32min\u001b[0m \u001b[0msubregion_dict\u001b[0m\u001b[1;33m:\u001b[0m\u001b[1;33m\u001b[0m\u001b[0m\n\u001b[1;32m--> 491\u001b[1;33m                 \u001b[0mvmt_summary_df\u001b[0m\u001b[1;33m.\u001b[0m\u001b[0mloc\u001b[0m\u001b[1;33m[\u001b[0m\u001b[0msubregion_dict\u001b[0m\u001b[1;33m[\u001b[0m\u001b[0msubregion\u001b[0m\u001b[1;33m]\u001b[0m\u001b[1;33m]\u001b[0m \u001b[1;33m=\u001b[0m \u001b[0mcompute_summary_by_subregion\u001b[0m\u001b[1;33m(\u001b[0m\u001b[0mmc_obj\u001b[0m\u001b[1;33m,\u001b[0m\u001b[0mtaz_fn\u001b[0m\u001b[1;33m,\u001b[0m \u001b[0mmetric\u001b[0m \u001b[1;33m=\u001b[0m \u001b[1;34m'VMT'\u001b[0m\u001b[1;33m,\u001b[0m\u001b[0msubregion\u001b[0m \u001b[1;33m=\u001b[0m \u001b[0msubregion\u001b[0m\u001b[1;33m)\u001b[0m\u001b[1;33m\u001b[0m\u001b[0m\n\u001b[0m\u001b[0;32m    492\u001b[0m                 \u001b[0mpmt_summary_df\u001b[0m\u001b[1;33m.\u001b[0m\u001b[0mloc\u001b[0m\u001b[1;33m[\u001b[0m\u001b[0msubregion_dict\u001b[0m\u001b[1;33m[\u001b[0m\u001b[0msubregion\u001b[0m\u001b[1;33m]\u001b[0m\u001b[1;33m]\u001b[0m \u001b[1;33m=\u001b[0m \u001b[0mcompute_summary_by_subregion\u001b[0m\u001b[1;33m(\u001b[0m\u001b[0mmc_obj\u001b[0m\u001b[1;33m,\u001b[0m\u001b[0mtaz_fn\u001b[0m\u001b[1;33m,\u001b[0m \u001b[0mmetric\u001b[0m \u001b[1;33m=\u001b[0m \u001b[1;34m'PMT'\u001b[0m\u001b[1;33m,\u001b[0m\u001b[0msubregion\u001b[0m \u001b[1;33m=\u001b[0m \u001b[0msubregion\u001b[0m\u001b[1;33m)\u001b[0m\u001b[1;33m\u001b[0m\u001b[0m\n\u001b[0;32m    493\u001b[0m                 \u001b[0mmode_share_df\u001b[0m\u001b[1;33m.\u001b[0m\u001b[0mloc\u001b[0m\u001b[1;33m[\u001b[0m\u001b[0msubregion_dict\u001b[0m\u001b[1;33m[\u001b[0m\u001b[0msubregion\u001b[0m\u001b[1;33m]\u001b[0m\u001b[1;33m]\u001b[0m \u001b[1;33m=\u001b[0m \u001b[0mcompute_summary_by_subregion\u001b[0m\u001b[1;33m(\u001b[0m\u001b[0mmc_obj\u001b[0m\u001b[1;33m,\u001b[0m\u001b[0mtaz_fn\u001b[0m\u001b[1;33m,\u001b[0m \u001b[0mmetric\u001b[0m \u001b[1;33m=\u001b[0m \u001b[1;34m'mode share'\u001b[0m\u001b[1;33m,\u001b[0m\u001b[0msubregion\u001b[0m \u001b[1;33m=\u001b[0m \u001b[0msubregion\u001b[0m\u001b[1;33m)\u001b[0m\u001b[1;33m\u001b[0m\u001b[0m\n",
      "\u001b[1;32m~\\Documents\\CFB\\Files\\2040\\mc_util.py\u001b[0m in \u001b[0;36mcompute_summary_by_subregion\u001b[1;34m(mc_obj, taz_fn, metric, subregion)\u001b[0m\n\u001b[0;32m    369\u001b[0m                 \u001b[1;32mif\u001b[0m \u001b[0msubregion\u001b[0m\u001b[1;33m.\u001b[0m\u001b[0mlower\u001b[0m\u001b[1;33m(\u001b[0m\u001b[1;33m)\u001b[0m \u001b[1;32min\u001b[0m \u001b[0msubregion_dict\u001b[0m\u001b[1;33m:\u001b[0m\u001b[1;33m\u001b[0m\u001b[0m\n\u001b[0;32m    370\u001b[0m                         \u001b[0mfield\u001b[0m \u001b[1;33m=\u001b[0m \u001b[0msubregion_dict\u001b[0m\u001b[1;33m[\u001b[0m\u001b[0msubregion\u001b[0m\u001b[1;33m.\u001b[0m\u001b[0mlower\u001b[0m\u001b[1;33m(\u001b[0m\u001b[1;33m)\u001b[0m\u001b[1;33m]\u001b[0m\u001b[1;33m\u001b[0m\u001b[0m\n\u001b[1;32m--> 371\u001b[1;33m                         \u001b[0mboston_o_auto_vmt\u001b[0m \u001b[1;33m=\u001b[0m \u001b[0mvmt_table\u001b[0m\u001b[1;33m[\u001b[0m\u001b[0mtaz\u001b[0m\u001b[1;33m[\u001b[0m\u001b[1;34m'TOWN'\u001b[0m\u001b[1;33m]\u001b[0m\u001b[1;33m==\u001b[0m\u001b[1;34m'BOSTON'\u001b[0m\u001b[1;33m,\u001b[0m\u001b[1;33m:\u001b[0m\u001b[1;33m]\u001b[0m\u001b[1;33m[\u001b[0m\u001b[1;33m:\u001b[0m\u001b[1;33m,\u001b[0m \u001b[0mtaz\u001b[0m\u001b[1;33m[\u001b[0m\u001b[0mtaz\u001b[0m\u001b[1;33m[\u001b[0m\u001b[0mfield\u001b[0m\u001b[1;33m]\u001b[0m\u001b[1;33m==\u001b[0m \u001b[1;32mTrue\u001b[0m\u001b[1;33m]\u001b[0m\u001b[1;33m.\u001b[0m\u001b[0mindex\u001b[0m\u001b[1;33m.\u001b[0m\u001b[0mastype\u001b[0m\u001b[1;33m(\u001b[0m\u001b[0mint\u001b[0m\u001b[1;33m)\u001b[0m\u001b[1;33m.\u001b[0m\u001b[0mvalues\u001b[0m\u001b[1;33m]\u001b[0m\u001b[1;33m\u001b[0m\u001b[0m\n\u001b[0m\u001b[0;32m    372\u001b[0m                         \u001b[0mboston_d_auto_vmt\u001b[0m \u001b[1;33m=\u001b[0m \u001b[0mvmt_table\u001b[0m\u001b[1;33m[\u001b[0m\u001b[0mtaz\u001b[0m\u001b[1;33m[\u001b[0m\u001b[0mtaz\u001b[0m\u001b[1;33m[\u001b[0m\u001b[0mfield\u001b[0m\u001b[1;33m]\u001b[0m\u001b[1;33m==\u001b[0m \u001b[1;32mTrue\u001b[0m\u001b[1;33m]\u001b[0m\u001b[1;33m.\u001b[0m\u001b[0mindex\u001b[0m\u001b[1;33m.\u001b[0m\u001b[0mastype\u001b[0m\u001b[1;33m(\u001b[0m\u001b[0mint\u001b[0m\u001b[1;33m)\u001b[0m\u001b[1;33m.\u001b[0m\u001b[0mvalues\u001b[0m\u001b[1;33m,\u001b[0m\u001b[1;33m:\u001b[0m\u001b[1;33m]\u001b[0m\u001b[1;33m[\u001b[0m\u001b[1;33m:\u001b[0m\u001b[1;33m,\u001b[0m\u001b[0mtaz\u001b[0m\u001b[1;33m[\u001b[0m\u001b[1;34m'TOWN'\u001b[0m\u001b[1;33m]\u001b[0m\u001b[1;33m==\u001b[0m\u001b[1;34m'BOSTON'\u001b[0m\u001b[1;33m]\u001b[0m\u001b[1;33m\u001b[0m\u001b[0m\n\u001b[0;32m    373\u001b[0m                         \u001b[0mtown_definition\u001b[0m \u001b[1;33m=\u001b[0m \u001b[0mtaz\u001b[0m\u001b[1;33m[\u001b[0m\u001b[0mtaz\u001b[0m\u001b[1;33m[\u001b[0m\u001b[0mfield\u001b[0m\u001b[1;33m]\u001b[0m\u001b[1;33m==\u001b[0m \u001b[1;32mTrue\u001b[0m\u001b[1;33m]\u001b[0m\u001b[1;33m.\u001b[0m\u001b[0mindex\u001b[0m\u001b[1;33m.\u001b[0m\u001b[0mastype\u001b[0m\u001b[1;33m(\u001b[0m\u001b[0mint\u001b[0m\u001b[1;33m)\u001b[0m\u001b[1;33m.\u001b[0m\u001b[0mvalues\u001b[0m\u001b[1;33m\u001b[0m\u001b[0m\n",
      "\u001b[1;31mIndexError\u001b[0m: boolean index did not match indexed array along dimension 0; dimension is 2730 but corresponding boolean dimension is 2727"
     ]
    }
   ],
   "source": [
    "mc_util.write_summary_by_subregion(mc)"
   ]
  },
  {
   "cell_type": "code",
   "execution_count": null,
   "metadata": {
    "collapsed": true
   },
   "outputs": [],
   "source": [
    "mc_util.transit_ridership(mc)"
   ]
  },
  {
   "cell_type": "code",
   "execution_count": 11,
   "metadata": {
    "collapsed": true
   },
   "outputs": [],
   "source": [
    "mc_util.write_trip_tables(mc, r'..\\output\\2040_trips_no_scenario.omx')"
   ]
  },
  {
   "cell_type": "code",
   "execution_count": null,
   "metadata": {
    "collapsed": true
   },
   "outputs": [],
   "source": []
  }
 ],
 "metadata": {
  "kernelspec": {
   "display_name": "Python 3",
   "language": "python",
   "name": "python3"
  },
  "language_info": {
   "codemirror_mode": {
    "name": "ipython",
    "version": 3
   },
   "file_extension": ".py",
   "mimetype": "text/x-python",
   "name": "python",
   "nbconvert_exporter": "python",
   "pygments_lexer": "ipython3",
   "version": "3.6.5"
  },
  "toc": {
   "base_numbering": 1,
   "nav_menu": {},
   "number_sections": true,
   "sideBar": true,
   "skip_h1_title": false,
   "title_cell": "Table of Contents",
   "title_sidebar": "Contents",
   "toc_cell": false,
   "toc_position": {},
   "toc_section_display": true,
   "toc_window_display": false
  }
 },
 "nbformat": 4,
 "nbformat_minor": 2
}
