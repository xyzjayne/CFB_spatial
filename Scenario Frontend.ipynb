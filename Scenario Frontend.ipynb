{
 "cells": [
  {
   "cell_type": "code",
   "execution_count": 1,
   "metadata": {},
   "outputs": [],
   "source": [
    "import sys, os\n",
    "\n",
    "import config\n",
    "import mode_choice\n",
    "import mc_util\n",
    "import scenario_editor as se\n",
    "\n",
    "mc = mode_choice.Mode_Choice(config,run_now = False)"
   ]
  },
  {
   "cell_type": "code",
   "execution_count": 2,
   "metadata": {},
   "outputs": [
    {
     "name": "stdout",
     "output_type": "stream",
     "text": [
      "✓ TAZ / land use / parking / zonal variables read. Time elapsed: 0.19 seconds\n",
      "✓ skims read. Time elapsed: 17.35 seconds\n",
      "✓ trip table read. Time elapsed: 25.88 seconds\n",
      "✓ zonal variable tables generated. Time elapsed: 26.26 seconds\n",
      "Running for all purposes...\n",
      "Mode choice for HBW started.\n",
      "✓ Parameter table for HBW generated. Time elapsed: 26.43 seconds\n",
      "✓ Trips for 0_PK calculated. Time elapsed: 38.68 seconds\n",
      "✓ Trips for 1_PK calculated. Time elapsed: 49.32 seconds\n",
      "✓ Trips for 0_OP calculated. Time elapsed: 59.92 seconds\n",
      "✓ Trips for 1_OP calculated. Time elapsed: 70.27 seconds\n",
      "Mode choice for HBO started.\n",
      "✓ Parameter table for HBO generated. Time elapsed: 71.06 seconds\n",
      "✓ Trips for 0_PK calculated. Time elapsed: 78.06 seconds\n",
      "✓ Trips for 1_PK calculated. Time elapsed: 85.23 seconds\n",
      "✓ Trips for 0_OP calculated. Time elapsed: 92.57 seconds\n",
      "✓ Trips for 1_OP calculated. Time elapsed: 99.80 seconds\n",
      "Mode choice for NHB started.\n",
      "✓ Parameter table for NHB generated. Time elapsed: 100.44 seconds\n",
      "✓ Trips for 0_PK calculated. Time elapsed: 108.41 seconds\n",
      "✓ Trips for 1_PK calculated. Time elapsed: 116.89 seconds\n",
      "✓ Trips for 0_OP calculated. Time elapsed: 125.79 seconds\n",
      "✓ Trips for 1_OP calculated. Time elapsed: 136.93 seconds\n",
      "Mode choice for HBSc1 started.\n",
      "✓ Parameter table for HBSc1 generated. Time elapsed: 137.64 seconds\n",
      "✓ Trips for 0_PK calculated. Time elapsed: 143.09 seconds\n",
      "✓ Trips for 1_PK calculated. Time elapsed: 148.76 seconds\n",
      "✓ Trips for 0_OP calculated. Time elapsed: 154.51 seconds\n",
      "✓ Trips for 1_OP calculated. Time elapsed: 160.21 seconds\n",
      "Mode choice for HBSc2 started.\n",
      "✓ Parameter table for HBSc2 generated. Time elapsed: 160.73 seconds\n",
      "✓ Trips for 0_PK calculated. Time elapsed: 166.14 seconds\n",
      "✓ Trips for 1_PK calculated. Time elapsed: 173.16 seconds\n",
      "✓ Trips for 0_OP calculated. Time elapsed: 179.86 seconds\n",
      "✓ Trips for 1_OP calculated. Time elapsed: 186.09 seconds\n",
      "Mode choice for HBSc3 started.\n",
      "✓ Parameter table for HBSc3 generated. Time elapsed: 186.65 seconds\n",
      "✓ Trips for 0_PK calculated. Time elapsed: 193.38 seconds\n",
      "✓ Trips for 1_PK calculated. Time elapsed: 200.93 seconds\n",
      "✓ Trips for 0_OP calculated. Time elapsed: 210.17 seconds\n",
      "✓ Trips for 1_OP calculated. Time elapsed: 220.73 seconds\n"
     ]
    }
   ],
   "source": [
    "mc.load_input()\n",
    "mc.run_model(all_purposes = True)"
   ]
  },
  {
   "cell_type": "code",
   "execution_count": 2,
   "metadata": {},
   "outputs": [
    {
     "data": {
      "text/plain": [
       "{'clean_vehicle': False,\n",
       " 'growth_shift': False,\n",
       " 'transit_improvements': False,\n",
       " 'active_transportation_improvements': False,\n",
       " 'TDM': False,\n",
       " 'CAV': False,\n",
       " 'CAV_management_policy': False,\n",
       " 'smart_mobility': False,\n",
       " 'smart_mobility_management_policy': False,\n",
       " 'congestion_charge': False}"
      ]
     },
     "metadata": {},
     "output_type": "display_data"
    }
   ],
   "source": [
    "from IPython.display import display\n",
    "display(config.scenario_switches)"
   ]
  },
  {
   "cell_type": "code",
   "execution_count": 13,
   "metadata": {},
   "outputs": [
    {
     "data": {
      "text/plain": [
       "['clean_vehicle',\n",
       " 'growth_shift',\n",
       " 'transit_improvements',\n",
       " 'active_transportation_improvements',\n",
       " 'TDM',\n",
       " 'CAV',\n",
       " 'CAV_management_policy',\n",
       " 'smart_mobility',\n",
       " 'smart_mobility_management_policy',\n",
       " 'congestion_charge']"
      ]
     },
     "execution_count": 13,
     "metadata": {},
     "output_type": "execute_result"
    }
   ],
   "source": [
    "list(config.scenario_switches.keys())"
   ]
  },
  {
   "cell_type": "code",
   "execution_count": 14,
   "metadata": {},
   "outputs": [
    {
     "name": "stdout",
     "output_type": "stream",
     "text": [
      "✓ TAZ / land use / parking / zonal variables read. Time elapsed: 5757.20 seconds\n",
      "✓ skims read. Time elapsed: 5775.15 seconds\n",
      "✓ trip table read. Time elapsed: 5783.70 seconds\n",
      "✓ zonal variable tables generated. Time elapsed: 5784.71 seconds\n",
      "Running for all purposes...\n",
      "Mode choice for HBW started.\n",
      "✓ Parameter table for HBW generated. Time elapsed: 5784.72 seconds\n",
      "✓ Trips for 0_PK calculated. Time elapsed: 5803.49 seconds\n",
      "✓ Trips for 1_PK calculated. Time elapsed: 5816.18 seconds\n",
      "✓ Trips for 0_OP calculated. Time elapsed: 5827.80 seconds\n",
      "✓ Trips for 1_OP calculated. Time elapsed: 5839.42 seconds\n",
      "Mode choice for HBO started.\n",
      "✓ Parameter table for HBO generated. Time elapsed: 5840.61 seconds\n",
      "✓ Trips for 0_PK calculated. Time elapsed: 5847.75 seconds\n",
      "✓ Trips for 1_PK calculated. Time elapsed: 5855.50 seconds\n",
      "✓ Trips for 0_OP calculated. Time elapsed: 5863.68 seconds\n",
      "✓ Trips for 1_OP calculated. Time elapsed: 5871.70 seconds\n",
      "Mode choice for NHB started.\n",
      "✓ Parameter table for NHB generated. Time elapsed: 5872.50 seconds\n",
      "✓ Trips for 0_PK calculated. Time elapsed: 5881.38 seconds\n",
      "✓ Trips for 1_PK calculated. Time elapsed: 5890.72 seconds\n",
      "✓ Trips for 0_OP calculated. Time elapsed: 5899.49 seconds\n",
      "✓ Trips for 1_OP calculated. Time elapsed: 5908.07 seconds\n",
      "Mode choice for HBSc1 started.\n",
      "✓ Parameter table for HBSc1 generated. Time elapsed: 5908.85 seconds\n",
      "✓ Trips for 0_PK calculated. Time elapsed: 5914.43 seconds\n",
      "✓ Trips for 1_PK calculated. Time elapsed: 5920.08 seconds\n",
      "✓ Trips for 0_OP calculated. Time elapsed: 5925.83 seconds\n",
      "✓ Trips for 1_OP calculated. Time elapsed: 5931.59 seconds\n",
      "Mode choice for HBSc2 started.\n",
      "✓ Parameter table for HBSc2 generated. Time elapsed: 5932.18 seconds\n",
      "✓ Trips for 0_PK calculated. Time elapsed: 5937.55 seconds\n",
      "✓ Trips for 1_PK calculated. Time elapsed: 5945.55 seconds\n",
      "✓ Trips for 0_OP calculated. Time elapsed: 5951.45 seconds\n",
      "✓ Trips for 1_OP calculated. Time elapsed: 5957.28 seconds\n",
      "Mode choice for HBSc3 started.\n",
      "✓ Parameter table for HBSc3 generated. Time elapsed: 5957.88 seconds\n",
      "✓ Trips for 0_PK calculated. Time elapsed: 5965.00 seconds\n",
      "✓ Trips for 1_PK calculated. Time elapsed: 5974.74 seconds\n",
      "✓ Trips for 0_OP calculated. Time elapsed: 5981.84 seconds\n",
      "✓ Trips for 1_OP calculated. Time elapsed: 5988.85 seconds\n",
      "\"Land Use\" enabled: Shift a certain amount of population growth to growth-intensive TAZs (by default 50%).\n",
      "Running for all purposes...\n",
      "Mode choice for HBW started.\n",
      "✓ Parameter table for HBW generated. Time elapsed: 5995.26 seconds\n",
      "✓ Trips for 0_PK calculated. Time elapsed: 6010.39 seconds\n",
      "✓ Trips for 1_PK calculated. Time elapsed: 6021.45 seconds\n",
      "✓ Trips for 0_OP calculated. Time elapsed: 6032.28 seconds\n",
      "✓ Trips for 1_OP calculated. Time elapsed: 6042.93 seconds\n",
      "Mode choice for HBO started.\n",
      "✓ Parameter table for HBO generated. Time elapsed: 6043.80 seconds\n",
      "✓ Trips for 0_PK calculated. Time elapsed: 6050.91 seconds\n",
      "✓ Trips for 1_PK calculated. Time elapsed: 6058.26 seconds\n",
      "✓ Trips for 0_OP calculated. Time elapsed: 6065.54 seconds\n",
      "✓ Trips for 1_OP calculated. Time elapsed: 6072.81 seconds\n",
      "Mode choice for NHB started.\n",
      "✓ Parameter table for NHB generated. Time elapsed: 6073.52 seconds\n",
      "✓ Trips for 0_PK calculated. Time elapsed: 6081.38 seconds\n",
      "✓ Trips for 1_PK calculated. Time elapsed: 6092.80 seconds\n",
      "✓ Trips for 0_OP calculated. Time elapsed: 6101.81 seconds\n",
      "✓ Trips for 1_OP calculated. Time elapsed: 6110.71 seconds\n",
      "Mode choice for HBSc1 started.\n",
      "✓ Parameter table for HBSc1 generated. Time elapsed: 6111.59 seconds\n",
      "✓ Trips for 0_PK calculated. Time elapsed: 6117.10 seconds\n",
      "✓ Trips for 1_PK calculated. Time elapsed: 6122.89 seconds\n",
      "✓ Trips for 0_OP calculated. Time elapsed: 6128.66 seconds\n",
      "✓ Trips for 1_OP calculated. Time elapsed: 6134.33 seconds\n",
      "Mode choice for HBSc2 started.\n",
      "✓ Parameter table for HBSc2 generated. Time elapsed: 6134.89 seconds\n",
      "✓ Trips for 0_PK calculated. Time elapsed: 6140.35 seconds\n",
      "✓ Trips for 1_PK calculated. Time elapsed: 6146.79 seconds\n",
      "✓ Trips for 0_OP calculated. Time elapsed: 6152.72 seconds\n",
      "✓ Trips for 1_OP calculated. Time elapsed: 6158.66 seconds\n",
      "Mode choice for HBSc3 started.\n",
      "✓ Parameter table for HBSc3 generated. Time elapsed: 6159.27 seconds\n",
      "✓ Trips for 0_PK calculated. Time elapsed: 6166.43 seconds\n",
      "✓ Trips for 1_PK calculated. Time elapsed: 6177.28 seconds\n",
      "✓ Trips for 0_OP calculated. Time elapsed: 6184.41 seconds\n",
      "✓ Trips for 1_OP calculated. Time elapsed: 6191.46 seconds\n",
      "Scenario run is finished. You may now call methods in mc_util to produce output summaries.\n"
     ]
    },
    {
     "name": "stderr",
     "output_type": "stream",
     "text": [
      "C:\\ProgramData\\Anaconda3\\lib\\site-packages\\pandas\\core\\frame.py:6201: FutureWarning: Sorting because non-concatenation axis is not aligned. A future version\n",
      "of pandas will change to not sort by default.\n",
      "\n",
      "To accept the future behavior, pass 'sort=True'.\n",
      "\n",
      "To retain the current behavior and silence the warning, pass sort=False\n",
      "\n",
      "  sort=sort)\n"
     ]
    },
    {
     "name": "stdout",
     "output_type": "stream",
     "text": [
      "✓ TAZ / land use / parking / zonal variables read. Time elapsed: 6308.54 seconds\n",
      "✓ skims read. Time elapsed: 6325.67 seconds\n",
      "✓ trip table read. Time elapsed: 6335.62 seconds\n",
      "✓ zonal variable tables generated. Time elapsed: 6336.12 seconds\n",
      "Running for all purposes...\n",
      "Mode choice for HBW started.\n",
      "✓ Parameter table for HBW generated. Time elapsed: 6336.13 seconds\n",
      "✓ Trips for 0_PK calculated. Time elapsed: 6355.65 seconds\n",
      "✓ Trips for 1_PK calculated. Time elapsed: 6367.53 seconds\n",
      "✓ Trips for 0_OP calculated. Time elapsed: 6379.67 seconds\n",
      "✓ Trips for 1_OP calculated. Time elapsed: 6391.41 seconds\n",
      "Mode choice for HBO started.\n",
      "✓ Parameter table for HBO generated. Time elapsed: 6392.49 seconds\n",
      "✓ Trips for 0_PK calculated. Time elapsed: 6400.02 seconds\n",
      "✓ Trips for 1_PK calculated. Time elapsed: 6407.53 seconds\n",
      "✓ Trips for 0_OP calculated. Time elapsed: 6415.59 seconds\n",
      "✓ Trips for 1_OP calculated. Time elapsed: 6423.51 seconds\n",
      "Mode choice for NHB started.\n",
      "✓ Parameter table for NHB generated. Time elapsed: 6424.30 seconds\n",
      "✓ Trips for 0_PK calculated. Time elapsed: 6433.41 seconds\n",
      "✓ Trips for 1_PK calculated. Time elapsed: 6442.88 seconds\n",
      "✓ Trips for 0_OP calculated. Time elapsed: 6451.97 seconds\n",
      "✓ Trips for 1_OP calculated. Time elapsed: 6460.88 seconds\n",
      "Mode choice for HBSc1 started.\n",
      "✓ Parameter table for HBSc1 generated. Time elapsed: 6461.66 seconds\n",
      "✓ Trips for 0_PK calculated. Time elapsed: 6467.22 seconds\n",
      "✓ Trips for 1_PK calculated. Time elapsed: 6472.88 seconds\n",
      "✓ Trips for 0_OP calculated. Time elapsed: 6478.72 seconds\n",
      "✓ Trips for 1_OP calculated. Time elapsed: 6484.48 seconds\n",
      "Mode choice for HBSc2 started.\n",
      "✓ Parameter table for HBSc2 generated. Time elapsed: 6485.04 seconds\n",
      "✓ Trips for 0_PK calculated. Time elapsed: 6490.55 seconds\n",
      "✓ Trips for 1_PK calculated. Time elapsed: 6496.67 seconds\n",
      "✓ Trips for 0_OP calculated. Time elapsed: 6503.42 seconds\n",
      "✓ Trips for 1_OP calculated. Time elapsed: 6509.77 seconds\n",
      "Mode choice for HBSc3 started.\n",
      "✓ Parameter table for HBSc3 generated. Time elapsed: 6510.41 seconds\n",
      "✓ Trips for 0_PK calculated. Time elapsed: 6517.91 seconds\n",
      "✓ Trips for 1_PK calculated. Time elapsed: 6528.18 seconds\n",
      "✓ Trips for 0_OP calculated. Time elapsed: 6535.79 seconds\n",
      "✓ Trips for 1_OP calculated. Time elapsed: 6543.52 seconds\n",
      "\"Transit Improvements\" enabled: Decrease transit travel time by 30% for TAZs impacted by Go Boston transit improvement projects.\n",
      "Running for all purposes...\n",
      "Mode choice for HBW started.\n",
      "✓ Parameter table for HBW generated. Time elapsed: 6545.30 seconds\n",
      "✓ Trips for 0_PK calculated. Time elapsed: 6560.95 seconds\n",
      "✓ Trips for 1_PK calculated. Time elapsed: 6571.90 seconds\n",
      "✓ Trips for 0_OP calculated. Time elapsed: 6583.40 seconds\n",
      "✓ Trips for 1_OP calculated. Time elapsed: 6596.31 seconds\n",
      "Mode choice for HBO started.\n",
      "✓ Parameter table for HBO generated. Time elapsed: 6597.34 seconds\n",
      "✓ Trips for 0_PK calculated. Time elapsed: 6604.68 seconds\n",
      "✓ Trips for 1_PK calculated. Time elapsed: 6612.08 seconds\n",
      "✓ Trips for 0_OP calculated. Time elapsed: 6619.64 seconds\n",
      "✓ Trips for 1_OP calculated. Time elapsed: 6627.03 seconds\n",
      "Mode choice for NHB started.\n",
      "✓ Parameter table for NHB generated. Time elapsed: 6627.88 seconds\n",
      "✓ Trips for 0_PK calculated. Time elapsed: 6635.85 seconds\n",
      "✓ Trips for 1_PK calculated. Time elapsed: 6644.64 seconds\n",
      "✓ Trips for 0_OP calculated. Time elapsed: 6656.54 seconds\n",
      "✓ Trips for 1_OP calculated. Time elapsed: 6665.47 seconds\n",
      "Mode choice for HBSc1 started.\n",
      "✓ Parameter table for HBSc1 generated. Time elapsed: 6666.42 seconds\n",
      "✓ Trips for 0_PK calculated. Time elapsed: 6672.00 seconds\n",
      "✓ Trips for 1_PK calculated. Time elapsed: 6677.90 seconds\n",
      "✓ Trips for 0_OP calculated. Time elapsed: 6683.75 seconds\n",
      "✓ Trips for 1_OP calculated. Time elapsed: 6689.37 seconds\n",
      "Mode choice for HBSc2 started.\n",
      "✓ Parameter table for HBSc2 generated. Time elapsed: 6689.93 seconds\n",
      "✓ Trips for 0_PK calculated. Time elapsed: 6695.38 seconds\n",
      "✓ Trips for 1_PK calculated. Time elapsed: 6702.24 seconds\n",
      "✓ Trips for 0_OP calculated. Time elapsed: 6708.28 seconds\n",
      "✓ Trips for 1_OP calculated. Time elapsed: 6714.21 seconds\n",
      "Mode choice for HBSc3 started.\n",
      "✓ Parameter table for HBSc3 generated. Time elapsed: 6714.82 seconds\n",
      "✓ Trips for 0_PK calculated. Time elapsed: 6722.19 seconds\n",
      "✓ Trips for 1_PK calculated. Time elapsed: 6731.91 seconds\n",
      "✓ Trips for 0_OP calculated. Time elapsed: 6739.38 seconds\n",
      "✓ Trips for 1_OP calculated. Time elapsed: 6746.76 seconds\n",
      "Scenario run is finished. You may now call methods in mc_util to produce output summaries.\n",
      "✓ TAZ / land use / parking / zonal variables read. Time elapsed: 6850.86 seconds\n",
      "✓ skims read. Time elapsed: 6870.94 seconds\n",
      "✓ trip table read. Time elapsed: 6879.36 seconds\n",
      "✓ zonal variable tables generated. Time elapsed: 6879.86 seconds\n",
      "Running for all purposes...\n",
      "Mode choice for HBW started.\n",
      "✓ Parameter table for HBW generated. Time elapsed: 6879.95 seconds\n",
      "✓ Trips for 0_PK calculated. Time elapsed: 6898.55 seconds\n",
      "✓ Trips for 1_PK calculated. Time elapsed: 6910.82 seconds\n",
      "✓ Trips for 0_OP calculated. Time elapsed: 6922.68 seconds\n",
      "✓ Trips for 1_OP calculated. Time elapsed: 6934.49 seconds\n",
      "Mode choice for HBO started.\n",
      "✓ Parameter table for HBO generated. Time elapsed: 6935.73 seconds\n",
      "✓ Trips for 0_PK calculated. Time elapsed: 6943.16 seconds\n",
      "✓ Trips for 1_PK calculated. Time elapsed: 6951.03 seconds\n",
      "✓ Trips for 0_OP calculated. Time elapsed: 6959.17 seconds\n",
      "✓ Trips for 1_OP calculated. Time elapsed: 6967.18 seconds\n",
      "Mode choice for NHB started.\n",
      "✓ Parameter table for NHB generated. Time elapsed: 6967.97 seconds\n",
      "✓ Trips for 0_PK calculated. Time elapsed: 6977.07 seconds\n",
      "✓ Trips for 1_PK calculated. Time elapsed: 6986.44 seconds\n",
      "✓ Trips for 0_OP calculated. Time elapsed: 6994.86 seconds\n",
      "✓ Trips for 1_OP calculated. Time elapsed: 7003.25 seconds\n",
      "Mode choice for HBSc1 started.\n",
      "✓ Parameter table for HBSc1 generated. Time elapsed: 7004.03 seconds\n",
      "✓ Trips for 0_PK calculated. Time elapsed: 7009.65 seconds\n",
      "✓ Trips for 1_PK calculated. Time elapsed: 7015.30 seconds\n",
      "✓ Trips for 0_OP calculated. Time elapsed: 7021.00 seconds\n",
      "✓ Trips for 1_OP calculated. Time elapsed: 7026.76 seconds\n",
      "Mode choice for HBSc2 started.\n",
      "✓ Parameter table for HBSc2 generated. Time elapsed: 7027.33 seconds\n",
      "✓ Trips for 0_PK calculated. Time elapsed: 7032.80 seconds\n",
      "✓ Trips for 1_PK calculated. Time elapsed: 7041.29 seconds\n",
      "✓ Trips for 0_OP calculated. Time elapsed: 7047.17 seconds\n",
      "✓ Trips for 1_OP calculated. Time elapsed: 7053.22 seconds\n",
      "Mode choice for HBSc3 started.\n",
      "✓ Parameter table for HBSc3 generated. Time elapsed: 7053.83 seconds\n",
      "✓ Trips for 0_PK calculated. Time elapsed: 7060.73 seconds\n",
      "✓ Trips for 1_PK calculated. Time elapsed: 7069.44 seconds\n",
      "✓ Trips for 0_OP calculated. Time elapsed: 7077.14 seconds\n",
      "✓ Trips for 1_OP calculated. Time elapsed: 7084.42 seconds\n",
      "\"Active Transportation\" enabled: Decrease bike trip time and distance for neighborhoods impacted by Go Boston bike improvement projects; improve citywide Pedestrian Environment Variables by 10%.\n"
     ]
    },
    {
     "ename": "KeyError",
     "evalue": "'Length (Skim'",
     "output_type": "error",
     "traceback": [
      "\u001b[1;31m---------------------------------------------------------------------------\u001b[0m",
      "\u001b[1;31mKeyError\u001b[0m                                  Traceback (most recent call last)",
      "\u001b[1;32m<ipython-input-14-bbf2658d3d27>\u001b[0m in \u001b[0;36m<module>\u001b[1;34m()\u001b[0m\n\u001b[0;32m     16\u001b[0m         \u001b[0mconfig\u001b[0m\u001b[1;33m.\u001b[0m\u001b[0mscenario_switches\u001b[0m\u001b[1;33m[\u001b[0m\u001b[0mkey\u001b[0m\u001b[1;33m]\u001b[0m \u001b[1;33m=\u001b[0m \u001b[1;32mFalse\u001b[0m\u001b[1;33m\u001b[0m\u001b[0m\n\u001b[0;32m     17\u001b[0m     \u001b[0mconfig\u001b[0m\u001b[1;33m.\u001b[0m\u001b[0mscenario_switches\u001b[0m\u001b[1;33m[\u001b[0m\u001b[0mscenario\u001b[0m\u001b[1;33m]\u001b[0m \u001b[1;33m=\u001b[0m \u001b[1;32mTrue\u001b[0m\u001b[1;33m\u001b[0m\u001b[0m\n\u001b[1;32m---> 18\u001b[1;33m     \u001b[0mse\u001b[0m\u001b[1;33m.\u001b[0m\u001b[0mimplement_scenarios\u001b[0m\u001b[1;33m(\u001b[0m\u001b[0mmc\u001b[0m\u001b[1;33m)\u001b[0m\u001b[1;33m\u001b[0m\u001b[0m\n\u001b[0m\u001b[0;32m     19\u001b[0m \u001b[1;31m# step 3: save key outputs\u001b[0m\u001b[1;33m\u001b[0m\u001b[1;33m\u001b[0m\u001b[0m\n\u001b[0;32m     20\u001b[0m     \u001b[0mmc_util\u001b[0m\u001b[1;33m.\u001b[0m\u001b[0mwrite_mode_share_to_excel\u001b[0m\u001b[1;33m(\u001b[0m\u001b[0mmc\u001b[0m\u001b[1;33m,\u001b[0m\u001b[0mpurpose\u001b[0m \u001b[1;33m=\u001b[0m \u001b[1;34m'all'\u001b[0m\u001b[1;33m,\u001b[0m\u001b[0mout_excel_fn\u001b[0m \u001b[1;33m=\u001b[0m \u001b[0mconfig\u001b[0m\u001b[1;33m.\u001b[0m\u001b[0mout_path\u001b[0m \u001b[1;33m+\u001b[0m \u001b[0mscenario\u001b[0m \u001b[1;33m+\u001b[0m\u001b[1;34m'_mode_share.xlsx'\u001b[0m\u001b[1;33m)\u001b[0m\u001b[1;33m\u001b[0m\u001b[0m\n",
      "\u001b[1;32m~\\Documents\\CFB\\Files\\2040\\scenario_editor.py\u001b[0m in \u001b[0;36mimplement_scenarios\u001b[1;34m(mc_obj)\u001b[0m\n\u001b[0;32m     44\u001b[0m                 \u001b[1;32mif\u001b[0m \u001b[0mswitches\u001b[0m\u001b[1;33m[\u001b[0m\u001b[1;34m'active_transportation_improvements'\u001b[0m\u001b[1;33m]\u001b[0m\u001b[1;33m:\u001b[0m\u001b[1;33m\u001b[0m\u001b[0m\n\u001b[0;32m     45\u001b[0m                         \u001b[0mprint\u001b[0m\u001b[1;33m(\u001b[0m\u001b[1;34mf'\"Active Transportation\" enabled: {scenario_space[\"Active Transportation\"]}'\u001b[0m\u001b[1;33m)\u001b[0m\u001b[1;33m\u001b[0m\u001b[0m\n\u001b[1;32m---> 46\u001b[1;33m                         \u001b[0mactive_transportation_modify_skim\u001b[0m\u001b[1;33m(\u001b[0m\u001b[0mmc_obj\u001b[0m\u001b[1;33m)\u001b[0m\u001b[1;33m\u001b[0m\u001b[0m\n\u001b[0m\u001b[0;32m     47\u001b[0m                         \u001b[0mactive_transportation_decrease_PEV\u001b[0m\u001b[1;33m(\u001b[0m\u001b[0mmc_obj\u001b[0m\u001b[1;33m)\u001b[0m\u001b[1;33m\u001b[0m\u001b[0m\n\u001b[0;32m     48\u001b[0m \u001b[1;33m\u001b[0m\u001b[0m\n",
      "\u001b[1;32m~\\Documents\\CFB\\Files\\2040\\scenario_editor.py\u001b[0m in \u001b[0;36mactive_transportation_modify_skim\u001b[1;34m(mc_obj, bike_improvement_TAZ_file)\u001b[0m\n\u001b[0;32m    228\u001b[0m         \u001b[0mmc_obj\u001b[0m\u001b[1;33m.\u001b[0m\u001b[0mbike_skim\u001b[0m\u001b[1;33m[\u001b[0m\u001b[1;34m'BikeTime'\u001b[0m\u001b[1;33m]\u001b[0m\u001b[1;33m,\u001b[0m \u001b[0mmc_obj\u001b[0m\u001b[1;33m.\u001b[0m\u001b[0mbike_skim\u001b[0m\u001b[1;33m[\u001b[0m\u001b[1;34m'Length (Skim)'\u001b[0m\u001b[1;33m]\u001b[0m \u001b[1;33m=\u001b[0m \u001b[0mbike_time_distance_reduction\u001b[0m\u001b[1;33m(\u001b[0m\u001b[0mmc_obj\u001b[0m\u001b[1;33m.\u001b[0m\u001b[0mbike_skim\u001b[0m\u001b[1;33m[\u001b[0m\u001b[1;34m'BikeTime'\u001b[0m\u001b[1;33m]\u001b[0m\u001b[1;33m,\u001b[0m \u001b[0mmc_obj\u001b[0m\u001b[1;33m.\u001b[0m\u001b[0mbike_skim\u001b[0m\u001b[1;33m[\u001b[0m\u001b[1;34m'Length (Skim)'\u001b[0m\u001b[1;33m]\u001b[0m\u001b[1;33m,\u001b[0m\u001b[0midx_list\u001b[0m\u001b[1;33m,\u001b[0m \u001b[0mfactor_list\u001b[0m\u001b[1;33m)\u001b[0m\u001b[1;33m\u001b[0m\u001b[0m\n\u001b[0;32m    229\u001b[0m \u001b[1;33m\u001b[0m\u001b[0m\n\u001b[1;32m--> 230\u001b[1;33m         \u001b[0mmc_obj\u001b[0m\u001b[1;33m.\u001b[0m\u001b[0mbike_skim\u001b[0m\u001b[1;33m[\u001b[0m\u001b[1;34m'OneMileorLess'\u001b[0m\u001b[1;33m]\u001b[0m \u001b[1;33m=\u001b[0m \u001b[1;36m1\u001b[0m\u001b[1;33m*\u001b[0m\u001b[1;33m(\u001b[0m\u001b[0mmc_obj\u001b[0m\u001b[1;33m.\u001b[0m\u001b[0mbike_skim\u001b[0m\u001b[1;33m[\u001b[0m\u001b[1;34m'Length (Skim'\u001b[0m\u001b[1;33m]\u001b[0m\u001b[1;33m<=\u001b[0m\u001b[1;36m1\u001b[0m\u001b[1;33m)\u001b[0m\u001b[1;33m\u001b[0m\u001b[0m\n\u001b[0m\u001b[0;32m    231\u001b[0m \u001b[1;33m\u001b[0m\u001b[0m\n\u001b[0;32m    232\u001b[0m \u001b[1;33m\u001b[0m\u001b[0m\n",
      "\u001b[1;31mKeyError\u001b[0m: 'Length (Skim'"
     ]
    }
   ],
   "source": [
    "# For loop to automatically implement each scenario.\n",
    "for scenario in [\n",
    " 'active_transportation_improvements',\n",
    " 'TDM',\n",
    " 'CAV',\n",
    " 'CAV_management_policy',\n",
    " 'smart_mobility',\n",
    " 'smart_mobility_management_policy',\n",
    " 'congestion_charge']:\n",
    "# step 1: revert to non-implementation\n",
    "    mc.load_input()\n",
    "    mc.run_model(all_purposes = True)\n",
    "# step 2: turn on scenario, turn off everything else\n",
    "    for key in config.scenario_switches:\n",
    "        config.scenario_switches[key] = False\n",
    "    config.scenario_switches[scenario] = True\n",
    "    se.implement_scenarios(mc)\n",
    "# step 3: save key outputs\n",
    "    mc_util.write_mode_share_to_excel(mc,purpose = 'all',out_excel_fn = config.out_path + scenario +'_mode_share.xlsx')\n",
    "    \n",
    "    for by in [None, 'peak','veh_own','purpose']:\n",
    "        mc_util.vmt_by_neighborhood(mc, by = by, out_fn = scenario+f'_vmt_by_neighborhood_{by}.csv')\n",
    "        mc_util.pmt_by_neighborhood(mc, by = by, out_fn = scenario+f'_pmt_by_neighborhood_{by}.csv')\n",
    "        mc_util.mode_share_by_neighborhood(mc, by = by , out_fn = scenario+f'_mode_share_nhood_{by}.csv')\n",
    "    try:\n",
    "        os.mkdir(config.out_path + scenario)\n",
    "    except:\n",
    "        pass\n",
    "    mc_util.write_summary_by_subregion(mc,out_path = config.out_path + scenario + '/')\n",
    "    \n",
    "    mc_util.write_trip_tables(mc, r'..\\output\\2040_trips_'+ scenario + '.omx')\n",
    "    \n",
    "    "
   ]
  },
  {
   "cell_type": "code",
   "execution_count": 4,
   "metadata": {},
   "outputs": [
    {
     "name": "stdout",
     "output_type": "stream",
     "text": [
      "\"Transit Improvements\" enabled: Decrease transit travel time by 30% for TAZs impacted by Go Boston transit improvement projects.\n",
      "Running for all purposes...\n",
      "Mode choice for HBW started.\n",
      "✓ Parameter table for HBW generated. Time elapsed: 221.42 seconds\n",
      "✓ Trips for 0_PK calculated. Time elapsed: 233.80 seconds\n",
      "✓ Trips for 1_PK calculated. Time elapsed: 245.09 seconds\n",
      "✓ Trips for 0_OP calculated. Time elapsed: 257.51 seconds\n",
      "✓ Trips for 1_OP calculated. Time elapsed: 269.11 seconds\n",
      "Mode choice for HBO started.\n",
      "✓ Parameter table for HBO generated. Time elapsed: 270.08 seconds\n",
      "✓ Trips for 0_PK calculated. Time elapsed: 277.25 seconds\n",
      "✓ Trips for 1_PK calculated. Time elapsed: 284.60 seconds\n",
      "✓ Trips for 0_OP calculated. Time elapsed: 292.09 seconds\n",
      "✓ Trips for 1_OP calculated. Time elapsed: 300.26 seconds\n",
      "Mode choice for NHB started.\n",
      "✓ Parameter table for NHB generated. Time elapsed: 300.99 seconds\n",
      "✓ Trips for 0_PK calculated. Time elapsed: 310.48 seconds\n",
      "✓ Trips for 1_PK calculated. Time elapsed: 320.32 seconds\n",
      "✓ Trips for 0_OP calculated. Time elapsed: 328.76 seconds\n",
      "✓ Trips for 1_OP calculated. Time elapsed: 337.64 seconds\n",
      "Mode choice for HBSc1 started.\n",
      "✓ Parameter table for HBSc1 generated. Time elapsed: 338.49 seconds\n",
      "✓ Trips for 0_PK calculated. Time elapsed: 344.24 seconds\n",
      "✓ Trips for 1_PK calculated. Time elapsed: 349.90 seconds\n",
      "✓ Trips for 0_OP calculated. Time elapsed: 355.74 seconds\n",
      "✓ Trips for 1_OP calculated. Time elapsed: 361.38 seconds\n",
      "Mode choice for HBSc2 started.\n",
      "✓ Parameter table for HBSc2 generated. Time elapsed: 361.95 seconds\n",
      "✓ Trips for 0_PK calculated. Time elapsed: 367.52 seconds\n",
      "✓ Trips for 1_PK calculated. Time elapsed: 373.44 seconds\n",
      "✓ Trips for 0_OP calculated. Time elapsed: 381.03 seconds\n",
      "✓ Trips for 1_OP calculated. Time elapsed: 389.00 seconds\n",
      "Mode choice for HBSc3 started.\n",
      "✓ Parameter table for HBSc3 generated. Time elapsed: 389.66 seconds\n",
      "✓ Trips for 0_PK calculated. Time elapsed: 396.45 seconds\n",
      "✓ Trips for 1_PK calculated. Time elapsed: 403.82 seconds\n",
      "✓ Trips for 0_OP calculated. Time elapsed: 411.79 seconds\n",
      "✓ Trips for 1_OP calculated. Time elapsed: 419.07 seconds\n",
      "Scenario run is finished. You may now call methods in mc_util to produce output summaries.\n"
     ]
    }
   ],
   "source": [
    "se.implement_scenarios(mc)"
   ]
  },
  {
   "cell_type": "code",
   "execution_count": 5,
   "metadata": {},
   "outputs": [
    {
     "data": {
      "text/html": [
       "<style  type=\"text/css\" >\n",
       "</style>  \n",
       "<table id=\"T_a1358cde_71c5_11e9_b9a0_9c5c8e97c636\" > \n",
       "<thead>    <tr> \n",
       "        <th class=\"index_name level0\" >mode</th> \n",
       "        <th class=\"col_heading level0 col0\" >DA</th> \n",
       "        <th class=\"col_heading level0 col1\" >SR2</th> \n",
       "        <th class=\"col_heading level0 col2\" >Walk</th> \n",
       "        <th class=\"col_heading level0 col3\" >Bike</th> \n",
       "        <th class=\"col_heading level0 col4\" >WAT</th> \n",
       "        <th class=\"col_heading level0 col5\" >DAT_CR</th> \n",
       "        <th class=\"col_heading level0 col6\" >DAT_RT</th> \n",
       "        <th class=\"col_heading level0 col7\" >DAT_LB</th> \n",
       "    </tr></thead> \n",
       "<tbody>    <tr> \n",
       "        <th id=\"T_a1358cde_71c5_11e9_b9a0_9c5c8e97c636level0_row0\" class=\"row_heading level0 row0\" >0_PK</th> \n",
       "        <td id=\"T_a1358cde_71c5_11e9_b9a0_9c5c8e97c636row0_col0\" class=\"data row0 col0\" >5.34%</td> \n",
       "        <td id=\"T_a1358cde_71c5_11e9_b9a0_9c5c8e97c636row0_col1\" class=\"data row0 col1\" >30.57%</td> \n",
       "        <td id=\"T_a1358cde_71c5_11e9_b9a0_9c5c8e97c636row0_col2\" class=\"data row0 col2\" >19.13%</td> \n",
       "        <td id=\"T_a1358cde_71c5_11e9_b9a0_9c5c8e97c636row0_col3\" class=\"data row0 col3\" >0.28%</td> \n",
       "        <td id=\"T_a1358cde_71c5_11e9_b9a0_9c5c8e97c636row0_col4\" class=\"data row0 col4\" >32.17%</td> \n",
       "        <td id=\"T_a1358cde_71c5_11e9_b9a0_9c5c8e97c636row0_col5\" class=\"data row0 col5\" >4.79%</td> \n",
       "        <td id=\"T_a1358cde_71c5_11e9_b9a0_9c5c8e97c636row0_col6\" class=\"data row0 col6\" >4.06%</td> \n",
       "        <td id=\"T_a1358cde_71c5_11e9_b9a0_9c5c8e97c636row0_col7\" class=\"data row0 col7\" >3.66%</td> \n",
       "    </tr>    <tr> \n",
       "        <th id=\"T_a1358cde_71c5_11e9_b9a0_9c5c8e97c636level0_row1\" class=\"row_heading level0 row1\" >1_PK</th> \n",
       "        <td id=\"T_a1358cde_71c5_11e9_b9a0_9c5c8e97c636row1_col0\" class=\"data row1 col0\" >57.72%</td> \n",
       "        <td id=\"T_a1358cde_71c5_11e9_b9a0_9c5c8e97c636row1_col1\" class=\"data row1 col1\" >19.36%</td> \n",
       "        <td id=\"T_a1358cde_71c5_11e9_b9a0_9c5c8e97c636row1_col2\" class=\"data row1 col2\" >9.50%</td> \n",
       "        <td id=\"T_a1358cde_71c5_11e9_b9a0_9c5c8e97c636row1_col3\" class=\"data row1 col3\" >0.83%</td> \n",
       "        <td id=\"T_a1358cde_71c5_11e9_b9a0_9c5c8e97c636row1_col4\" class=\"data row1 col4\" >10.39%</td> \n",
       "        <td id=\"T_a1358cde_71c5_11e9_b9a0_9c5c8e97c636row1_col5\" class=\"data row1 col5\" >0.60%</td> \n",
       "        <td id=\"T_a1358cde_71c5_11e9_b9a0_9c5c8e97c636row1_col6\" class=\"data row1 col6\" >1.07%</td> \n",
       "        <td id=\"T_a1358cde_71c5_11e9_b9a0_9c5c8e97c636row1_col7\" class=\"data row1 col7\" >0.54%</td> \n",
       "    </tr>    <tr> \n",
       "        <th id=\"T_a1358cde_71c5_11e9_b9a0_9c5c8e97c636level0_row2\" class=\"row_heading level0 row2\" >0_OP</th> \n",
       "        <td id=\"T_a1358cde_71c5_11e9_b9a0_9c5c8e97c636row2_col0\" class=\"data row2 col0\" >4.64%</td> \n",
       "        <td id=\"T_a1358cde_71c5_11e9_b9a0_9c5c8e97c636row2_col1\" class=\"data row2 col1\" >44.05%</td> \n",
       "        <td id=\"T_a1358cde_71c5_11e9_b9a0_9c5c8e97c636row2_col2\" class=\"data row2 col2\" >20.51%</td> \n",
       "        <td id=\"T_a1358cde_71c5_11e9_b9a0_9c5c8e97c636row2_col3\" class=\"data row2 col3\" >0.23%</td> \n",
       "        <td id=\"T_a1358cde_71c5_11e9_b9a0_9c5c8e97c636row2_col4\" class=\"data row2 col4\" >19.29%</td> \n",
       "        <td id=\"T_a1358cde_71c5_11e9_b9a0_9c5c8e97c636row2_col5\" class=\"data row2 col5\" >4.27%</td> \n",
       "        <td id=\"T_a1358cde_71c5_11e9_b9a0_9c5c8e97c636row2_col6\" class=\"data row2 col6\" >3.95%</td> \n",
       "        <td id=\"T_a1358cde_71c5_11e9_b9a0_9c5c8e97c636row2_col7\" class=\"data row2 col7\" >3.06%</td> \n",
       "    </tr>    <tr> \n",
       "        <th id=\"T_a1358cde_71c5_11e9_b9a0_9c5c8e97c636level0_row3\" class=\"row_heading level0 row3\" >1_OP</th> \n",
       "        <td id=\"T_a1358cde_71c5_11e9_b9a0_9c5c8e97c636row3_col0\" class=\"data row3 col0\" >66.70%</td> \n",
       "        <td id=\"T_a1358cde_71c5_11e9_b9a0_9c5c8e97c636row3_col1\" class=\"data row3 col1\" >17.81%</td> \n",
       "        <td id=\"T_a1358cde_71c5_11e9_b9a0_9c5c8e97c636row3_col2\" class=\"data row3 col2\" >3.11%</td> \n",
       "        <td id=\"T_a1358cde_71c5_11e9_b9a0_9c5c8e97c636row3_col3\" class=\"data row3 col3\" >0.93%</td> \n",
       "        <td id=\"T_a1358cde_71c5_11e9_b9a0_9c5c8e97c636row3_col4\" class=\"data row3 col4\" >9.64%</td> \n",
       "        <td id=\"T_a1358cde_71c5_11e9_b9a0_9c5c8e97c636row3_col5\" class=\"data row3 col5\" >0.42%</td> \n",
       "        <td id=\"T_a1358cde_71c5_11e9_b9a0_9c5c8e97c636row3_col6\" class=\"data row3 col6\" >0.93%</td> \n",
       "        <td id=\"T_a1358cde_71c5_11e9_b9a0_9c5c8e97c636row3_col7\" class=\"data row3 col7\" >0.45%</td> \n",
       "    </tr></tbody> \n",
       "</table> "
      ],
      "text/plain": [
       "<pandas.io.formats.style.Styler at 0x1bacb589ef0>"
      ]
     },
     "metadata": {},
     "output_type": "display_data"
    }
   ],
   "source": [
    "mc_util.display_mode_share(mc)"
   ]
  },
  {
   "cell_type": "code",
   "execution_count": 8,
   "metadata": {},
   "outputs": [],
   "source": [
    "mc_util.write_mode_share_to_excel(mc,purpose = 'all',out_excel_fn = config.out_path + 'mode_share_transit_improv.xlsx')"
   ]
  },
  {
   "cell_type": "code",
   "execution_count": 5,
   "metadata": {
    "scrolled": true
   },
   "outputs": [
    {
     "name": "stderr",
     "output_type": "stream",
     "text": [
      "C:\\ProgramData\\Anaconda3\\lib\\site-packages\\pandas\\core\\frame.py:6211: FutureWarning: Sorting because non-concatenation axis is not aligned. A future version\n",
      "of pandas will change to not sort by default.\n",
      "\n",
      "To accept the future behavior, pass 'sort=False'.\n",
      "\n",
      "To retain the current behavior and silence the warning, pass 'sort=True'.\n",
      "\n",
      "  sort=sort)\n"
     ]
    }
   ],
   "source": [
    "mc_util.vmt_by_neighborhood(mc, by = 'purpose')"
   ]
  },
  {
   "cell_type": "code",
   "execution_count": 6,
   "metadata": {},
   "outputs": [],
   "source": [
    "mc_util.pmt_by_neighborhood(mc, by = 'veh_own')"
   ]
  },
  {
   "cell_type": "code",
   "execution_count": 7,
   "metadata": {},
   "outputs": [],
   "source": [
    "mc_util.mode_share_by_neighborhood(mc, by = 'peak')"
   ]
  },
  {
   "cell_type": "code",
   "execution_count": null,
   "metadata": {},
   "outputs": [],
   "source": []
  },
  {
   "cell_type": "code",
   "execution_count": null,
   "metadata": {},
   "outputs": [],
   "source": []
  },
  {
   "cell_type": "code",
   "execution_count": null,
   "metadata": {},
   "outputs": [],
   "source": []
  },
  {
   "cell_type": "code",
   "execution_count": 3,
   "metadata": {},
   "outputs": [
    {
     "ename": "IndexError",
     "evalue": "boolean index did not match indexed array along dimension 0; dimension is 2730 but corresponding boolean dimension is 2727",
     "output_type": "error",
     "traceback": [
      "\u001b[1;31m---------------------------------------------------------------------------\u001b[0m",
      "\u001b[1;31mIndexError\u001b[0m                                Traceback (most recent call last)",
      "\u001b[1;32m<ipython-input-3-2d18aabf0d0a>\u001b[0m in \u001b[0;36m<module>\u001b[1;34m()\u001b[0m\n\u001b[1;32m----> 1\u001b[1;33m \u001b[0mmc_util\u001b[0m\u001b[1;33m.\u001b[0m\u001b[0mwrite_summary_by_subregion\u001b[0m\u001b[1;33m(\u001b[0m\u001b[0mmc\u001b[0m\u001b[1;33m)\u001b[0m\u001b[1;33m\u001b[0m\u001b[0m\n\u001b[0m",
      "\u001b[1;32m~\\Documents\\CFB\\Files\\2040\\mc_util.py\u001b[0m in \u001b[0;36mwrite_summary_by_subregion\u001b[1;34m(mc_obj, taz_fn, out_path)\u001b[0m\n\u001b[0;32m    489\u001b[0m         \u001b[0mmode_share_df\u001b[0m \u001b[1;33m=\u001b[0m \u001b[0mpd\u001b[0m\u001b[1;33m.\u001b[0m\u001b[0mDataFrame\u001b[0m\u001b[1;33m(\u001b[0m\u001b[0mindex\u001b[0m \u001b[1;33m=\u001b[0m \u001b[0msubregion_dict\u001b[0m\u001b[1;33m.\u001b[0m\u001b[0mvalues\u001b[0m\u001b[1;33m(\u001b[0m\u001b[1;33m)\u001b[0m\u001b[1;33m,\u001b[0m\u001b[0mcolumns\u001b[0m \u001b[1;33m=\u001b[0m \u001b[1;33m[\u001b[0m\u001b[1;34m'drive'\u001b[0m\u001b[1;33m,\u001b[0m\u001b[1;34m'non-motorized'\u001b[0m\u001b[1;33m,\u001b[0m\u001b[1;34m'transit'\u001b[0m\u001b[1;33m,\u001b[0m\u001b[1;34m'smart mobility'\u001b[0m\u001b[1;33m]\u001b[0m\u001b[1;33m)\u001b[0m\u001b[1;33m\u001b[0m\u001b[0m\n\u001b[0;32m    490\u001b[0m         \u001b[1;32mfor\u001b[0m \u001b[0msubregion\u001b[0m \u001b[1;32min\u001b[0m \u001b[0msubregion_dict\u001b[0m\u001b[1;33m:\u001b[0m\u001b[1;33m\u001b[0m\u001b[0m\n\u001b[1;32m--> 491\u001b[1;33m                 \u001b[0mvmt_summary_df\u001b[0m\u001b[1;33m.\u001b[0m\u001b[0mloc\u001b[0m\u001b[1;33m[\u001b[0m\u001b[0msubregion_dict\u001b[0m\u001b[1;33m[\u001b[0m\u001b[0msubregion\u001b[0m\u001b[1;33m]\u001b[0m\u001b[1;33m]\u001b[0m \u001b[1;33m=\u001b[0m \u001b[0mcompute_summary_by_subregion\u001b[0m\u001b[1;33m(\u001b[0m\u001b[0mmc_obj\u001b[0m\u001b[1;33m,\u001b[0m\u001b[0mtaz_fn\u001b[0m\u001b[1;33m,\u001b[0m \u001b[0mmetric\u001b[0m \u001b[1;33m=\u001b[0m \u001b[1;34m'VMT'\u001b[0m\u001b[1;33m,\u001b[0m\u001b[0msubregion\u001b[0m \u001b[1;33m=\u001b[0m \u001b[0msubregion\u001b[0m\u001b[1;33m)\u001b[0m\u001b[1;33m\u001b[0m\u001b[0m\n\u001b[0m\u001b[0;32m    492\u001b[0m                 \u001b[0mpmt_summary_df\u001b[0m\u001b[1;33m.\u001b[0m\u001b[0mloc\u001b[0m\u001b[1;33m[\u001b[0m\u001b[0msubregion_dict\u001b[0m\u001b[1;33m[\u001b[0m\u001b[0msubregion\u001b[0m\u001b[1;33m]\u001b[0m\u001b[1;33m]\u001b[0m \u001b[1;33m=\u001b[0m \u001b[0mcompute_summary_by_subregion\u001b[0m\u001b[1;33m(\u001b[0m\u001b[0mmc_obj\u001b[0m\u001b[1;33m,\u001b[0m\u001b[0mtaz_fn\u001b[0m\u001b[1;33m,\u001b[0m \u001b[0mmetric\u001b[0m \u001b[1;33m=\u001b[0m \u001b[1;34m'PMT'\u001b[0m\u001b[1;33m,\u001b[0m\u001b[0msubregion\u001b[0m \u001b[1;33m=\u001b[0m \u001b[0msubregion\u001b[0m\u001b[1;33m)\u001b[0m\u001b[1;33m\u001b[0m\u001b[0m\n\u001b[0;32m    493\u001b[0m                 \u001b[0mmode_share_df\u001b[0m\u001b[1;33m.\u001b[0m\u001b[0mloc\u001b[0m\u001b[1;33m[\u001b[0m\u001b[0msubregion_dict\u001b[0m\u001b[1;33m[\u001b[0m\u001b[0msubregion\u001b[0m\u001b[1;33m]\u001b[0m\u001b[1;33m]\u001b[0m \u001b[1;33m=\u001b[0m \u001b[0mcompute_summary_by_subregion\u001b[0m\u001b[1;33m(\u001b[0m\u001b[0mmc_obj\u001b[0m\u001b[1;33m,\u001b[0m\u001b[0mtaz_fn\u001b[0m\u001b[1;33m,\u001b[0m \u001b[0mmetric\u001b[0m \u001b[1;33m=\u001b[0m \u001b[1;34m'mode share'\u001b[0m\u001b[1;33m,\u001b[0m\u001b[0msubregion\u001b[0m \u001b[1;33m=\u001b[0m \u001b[0msubregion\u001b[0m\u001b[1;33m)\u001b[0m\u001b[1;33m\u001b[0m\u001b[0m\n",
      "\u001b[1;32m~\\Documents\\CFB\\Files\\2040\\mc_util.py\u001b[0m in \u001b[0;36mcompute_summary_by_subregion\u001b[1;34m(mc_obj, taz_fn, metric, subregion)\u001b[0m\n\u001b[0;32m    369\u001b[0m                 \u001b[1;32mif\u001b[0m \u001b[0msubregion\u001b[0m\u001b[1;33m.\u001b[0m\u001b[0mlower\u001b[0m\u001b[1;33m(\u001b[0m\u001b[1;33m)\u001b[0m \u001b[1;32min\u001b[0m \u001b[0msubregion_dict\u001b[0m\u001b[1;33m:\u001b[0m\u001b[1;33m\u001b[0m\u001b[0m\n\u001b[0;32m    370\u001b[0m                         \u001b[0mfield\u001b[0m \u001b[1;33m=\u001b[0m \u001b[0msubregion_dict\u001b[0m\u001b[1;33m[\u001b[0m\u001b[0msubregion\u001b[0m\u001b[1;33m.\u001b[0m\u001b[0mlower\u001b[0m\u001b[1;33m(\u001b[0m\u001b[1;33m)\u001b[0m\u001b[1;33m]\u001b[0m\u001b[1;33m\u001b[0m\u001b[0m\n\u001b[1;32m--> 371\u001b[1;33m                         \u001b[0mboston_o_auto_vmt\u001b[0m \u001b[1;33m=\u001b[0m \u001b[0mvmt_table\u001b[0m\u001b[1;33m[\u001b[0m\u001b[0mtaz\u001b[0m\u001b[1;33m[\u001b[0m\u001b[1;34m'TOWN'\u001b[0m\u001b[1;33m]\u001b[0m\u001b[1;33m==\u001b[0m\u001b[1;34m'BOSTON'\u001b[0m\u001b[1;33m,\u001b[0m\u001b[1;33m:\u001b[0m\u001b[1;33m]\u001b[0m\u001b[1;33m[\u001b[0m\u001b[1;33m:\u001b[0m\u001b[1;33m,\u001b[0m \u001b[0mtaz\u001b[0m\u001b[1;33m[\u001b[0m\u001b[0mtaz\u001b[0m\u001b[1;33m[\u001b[0m\u001b[0mfield\u001b[0m\u001b[1;33m]\u001b[0m\u001b[1;33m==\u001b[0m \u001b[1;32mTrue\u001b[0m\u001b[1;33m]\u001b[0m\u001b[1;33m.\u001b[0m\u001b[0mindex\u001b[0m\u001b[1;33m.\u001b[0m\u001b[0mastype\u001b[0m\u001b[1;33m(\u001b[0m\u001b[0mint\u001b[0m\u001b[1;33m)\u001b[0m\u001b[1;33m.\u001b[0m\u001b[0mvalues\u001b[0m\u001b[1;33m]\u001b[0m\u001b[1;33m\u001b[0m\u001b[0m\n\u001b[0m\u001b[0;32m    372\u001b[0m                         \u001b[0mboston_d_auto_vmt\u001b[0m \u001b[1;33m=\u001b[0m \u001b[0mvmt_table\u001b[0m\u001b[1;33m[\u001b[0m\u001b[0mtaz\u001b[0m\u001b[1;33m[\u001b[0m\u001b[0mtaz\u001b[0m\u001b[1;33m[\u001b[0m\u001b[0mfield\u001b[0m\u001b[1;33m]\u001b[0m\u001b[1;33m==\u001b[0m \u001b[1;32mTrue\u001b[0m\u001b[1;33m]\u001b[0m\u001b[1;33m.\u001b[0m\u001b[0mindex\u001b[0m\u001b[1;33m.\u001b[0m\u001b[0mastype\u001b[0m\u001b[1;33m(\u001b[0m\u001b[0mint\u001b[0m\u001b[1;33m)\u001b[0m\u001b[1;33m.\u001b[0m\u001b[0mvalues\u001b[0m\u001b[1;33m,\u001b[0m\u001b[1;33m:\u001b[0m\u001b[1;33m]\u001b[0m\u001b[1;33m[\u001b[0m\u001b[1;33m:\u001b[0m\u001b[1;33m,\u001b[0m\u001b[0mtaz\u001b[0m\u001b[1;33m[\u001b[0m\u001b[1;34m'TOWN'\u001b[0m\u001b[1;33m]\u001b[0m\u001b[1;33m==\u001b[0m\u001b[1;34m'BOSTON'\u001b[0m\u001b[1;33m]\u001b[0m\u001b[1;33m\u001b[0m\u001b[0m\n\u001b[0;32m    373\u001b[0m                         \u001b[0mtown_definition\u001b[0m \u001b[1;33m=\u001b[0m \u001b[0mtaz\u001b[0m\u001b[1;33m[\u001b[0m\u001b[0mtaz\u001b[0m\u001b[1;33m[\u001b[0m\u001b[0mfield\u001b[0m\u001b[1;33m]\u001b[0m\u001b[1;33m==\u001b[0m \u001b[1;32mTrue\u001b[0m\u001b[1;33m]\u001b[0m\u001b[1;33m.\u001b[0m\u001b[0mindex\u001b[0m\u001b[1;33m.\u001b[0m\u001b[0mastype\u001b[0m\u001b[1;33m(\u001b[0m\u001b[0mint\u001b[0m\u001b[1;33m)\u001b[0m\u001b[1;33m.\u001b[0m\u001b[0mvalues\u001b[0m\u001b[1;33m\u001b[0m\u001b[0m\n",
      "\u001b[1;31mIndexError\u001b[0m: boolean index did not match indexed array along dimension 0; dimension is 2730 but corresponding boolean dimension is 2727"
     ]
    }
   ],
   "source": [
    "mc_util.write_summary_by_subregion(mc)"
   ]
  },
  {
   "cell_type": "code",
   "execution_count": null,
   "metadata": {},
   "outputs": [],
   "source": [
    "mc_util.transit_ridership(mc)"
   ]
  },
  {
   "cell_type": "code",
   "execution_count": 11,
   "metadata": {},
   "outputs": [],
   "source": [
    "mc_util.write_trip_tables(mc, r'..\\output\\2040_trips_no_scenario.omx')"
   ]
  },
  {
   "cell_type": "code",
   "execution_count": null,
   "metadata": {},
   "outputs": [],
   "source": []
  }
 ],
 "metadata": {
  "kernelspec": {
   "display_name": "Python 3",
   "language": "python",
   "name": "python3"
  },
  "language_info": {
   "codemirror_mode": {
    "name": "ipython",
    "version": 3
   },
   "file_extension": ".py",
   "mimetype": "text/x-python",
   "name": "python",
   "nbconvert_exporter": "python",
   "pygments_lexer": "ipython3",
   "version": "3.6.5"
  },
  "toc": {
   "base_numbering": 1,
   "nav_menu": {},
   "number_sections": true,
   "sideBar": true,
   "skip_h1_title": false,
   "title_cell": "Table of Contents",
   "title_sidebar": "Contents",
   "toc_cell": false,
   "toc_position": {},
   "toc_section_display": true,
   "toc_window_display": false
  }
 },
 "nbformat": 4,
 "nbformat_minor": 2
}
