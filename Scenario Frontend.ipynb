{
 "cells": [
  {
   "cell_type": "code",
   "execution_count": 1,
   "metadata": {},
   "outputs": [],
   "source": [
    "import sys, os\n",
    "\n",
    "import config\n",
    "import mode_choice\n",
    "import mc_util\n",
    "import scenario_editor as se\n",
    "\n",
    "mc = mode_choice.Mode_Choice(config,run_now = False)"
   ]
  },
  {
   "cell_type": "code",
   "execution_count": 2,
   "metadata": {},
   "outputs": [
    {
     "name": "stdout",
     "output_type": "stream",
     "text": [
      "✓ TAZ / land use / parking / zonal variables read. Time elapsed: 0.19 seconds\n",
      "✓ skims read. Time elapsed: 17.35 seconds\n",
      "✓ trip table read. Time elapsed: 25.88 seconds\n",
      "✓ zonal variable tables generated. Time elapsed: 26.26 seconds\n",
      "Running for all purposes...\n",
      "Mode choice for HBW started.\n",
      "✓ Parameter table for HBW generated. Time elapsed: 26.43 seconds\n",
      "✓ Trips for 0_PK calculated. Time elapsed: 38.68 seconds\n",
      "✓ Trips for 1_PK calculated. Time elapsed: 49.32 seconds\n",
      "✓ Trips for 0_OP calculated. Time elapsed: 59.92 seconds\n",
      "✓ Trips for 1_OP calculated. Time elapsed: 70.27 seconds\n",
      "Mode choice for HBO started.\n",
      "✓ Parameter table for HBO generated. Time elapsed: 71.06 seconds\n",
      "✓ Trips for 0_PK calculated. Time elapsed: 78.06 seconds\n",
      "✓ Trips for 1_PK calculated. Time elapsed: 85.23 seconds\n",
      "✓ Trips for 0_OP calculated. Time elapsed: 92.57 seconds\n",
      "✓ Trips for 1_OP calculated. Time elapsed: 99.80 seconds\n",
      "Mode choice for NHB started.\n",
      "✓ Parameter table for NHB generated. Time elapsed: 100.44 seconds\n",
      "✓ Trips for 0_PK calculated. Time elapsed: 108.41 seconds\n",
      "✓ Trips for 1_PK calculated. Time elapsed: 116.89 seconds\n",
      "✓ Trips for 0_OP calculated. Time elapsed: 125.79 seconds\n",
      "✓ Trips for 1_OP calculated. Time elapsed: 136.93 seconds\n",
      "Mode choice for HBSc1 started.\n",
      "✓ Parameter table for HBSc1 generated. Time elapsed: 137.64 seconds\n",
      "✓ Trips for 0_PK calculated. Time elapsed: 143.09 seconds\n",
      "✓ Trips for 1_PK calculated. Time elapsed: 148.76 seconds\n",
      "✓ Trips for 0_OP calculated. Time elapsed: 154.51 seconds\n",
      "✓ Trips for 1_OP calculated. Time elapsed: 160.21 seconds\n",
      "Mode choice for HBSc2 started.\n",
      "✓ Parameter table for HBSc2 generated. Time elapsed: 160.73 seconds\n",
      "✓ Trips for 0_PK calculated. Time elapsed: 166.14 seconds\n",
      "✓ Trips for 1_PK calculated. Time elapsed: 173.16 seconds\n",
      "✓ Trips for 0_OP calculated. Time elapsed: 179.86 seconds\n",
      "✓ Trips for 1_OP calculated. Time elapsed: 186.09 seconds\n",
      "Mode choice for HBSc3 started.\n",
      "✓ Parameter table for HBSc3 generated. Time elapsed: 186.65 seconds\n",
      "✓ Trips for 0_PK calculated. Time elapsed: 193.38 seconds\n",
      "✓ Trips for 1_PK calculated. Time elapsed: 200.93 seconds\n",
      "✓ Trips for 0_OP calculated. Time elapsed: 210.17 seconds\n",
      "✓ Trips for 1_OP calculated. Time elapsed: 220.73 seconds\n"
     ]
    }
   ],
   "source": [
    "mc.load_input()\n",
    "mc.run_model(all_purposes = True)"
   ]
  },
  {
   "cell_type": "code",
   "execution_count": 2,
   "metadata": {},
   "outputs": [
    {
     "data": {
      "text/plain": [
       "{'clean_vehicle': False,\n",
       " 'growth_shift': False,\n",
       " 'transit_improvements': False,\n",
       " 'active_transportation_improvements': False,\n",
       " 'TDM': False,\n",
       " 'CAV': False,\n",
       " 'CAV_management_policy': False,\n",
       " 'smart_mobility': False,\n",
       " 'smart_mobility_management_policy': False,\n",
       " 'congestion_charge': False}"
      ]
     },
     "metadata": {},
     "output_type": "display_data"
    }
   ],
   "source": [
    "from IPython.display import display\n",
    "display(config.scenario_switches)"
   ]
  },
  {
   "cell_type": "code",
   "execution_count": 13,
   "metadata": {},
   "outputs": [
    {
     "data": {
      "text/plain": [
       "['clean_vehicle',\n",
       " 'growth_shift',\n",
       " 'transit_improvements',\n",
       " 'active_transportation_improvements',\n",
       " 'TDM',\n",
       " 'CAV',\n",
       " 'CAV_management_policy',\n",
       " 'smart_mobility',\n",
       " 'smart_mobility_management_policy',\n",
       " 'congestion_charge']"
      ]
     },
     "execution_count": 13,
     "metadata": {},
     "output_type": "execute_result"
    }
   ],
   "source": [
    "list(config.scenario_switches.keys())"
   ]
  },
  {
   "cell_type": "code",
   "execution_count": 15,
   "metadata": {},
   "outputs": [
    {
     "data": {
      "text/plain": [
       "<module 'scenario_editor' from 'C:\\\\Users\\\\xy.chang\\\\Documents\\\\CFB\\\\Files\\\\2040\\\\scenario_editor.py'>"
      ]
     },
     "execution_count": 15,
     "metadata": {},
     "output_type": "execute_result"
    }
   ],
   "source": [
    "import importlib\n",
    "importlib.reload(se)"
   ]
  },
  {
   "cell_type": "code",
   "execution_count": 16,
   "metadata": {},
   "outputs": [
    {
     "name": "stdout",
     "output_type": "stream",
     "text": [
      "✓ TAZ / land use / parking / zonal variables read. Time elapsed: 7507.49 seconds\n",
      "✓ skims read. Time elapsed: 7523.79 seconds\n",
      "✓ trip table read. Time elapsed: 7532.54 seconds\n",
      "✓ zonal variable tables generated. Time elapsed: 7532.91 seconds\n",
      "Running for all purposes...\n",
      "Mode choice for HBW started.\n",
      "✓ Parameter table for HBW generated. Time elapsed: 7532.93 seconds\n",
      "✓ Trips for 0_PK calculated. Time elapsed: 7548.71 seconds\n",
      "✓ Trips for 1_PK calculated. Time elapsed: 7560.83 seconds\n",
      "✓ Trips for 0_OP calculated. Time elapsed: 7572.99 seconds\n",
      "✓ Trips for 1_OP calculated. Time elapsed: 7584.69 seconds\n",
      "Mode choice for HBO started.\n",
      "✓ Parameter table for HBO generated. Time elapsed: 7585.80 seconds\n",
      "✓ Trips for 0_PK calculated. Time elapsed: 7592.96 seconds\n",
      "✓ Trips for 1_PK calculated. Time elapsed: 7601.16 seconds\n",
      "✓ Trips for 0_OP calculated. Time elapsed: 7609.45 seconds\n",
      "✓ Trips for 1_OP calculated. Time elapsed: 7617.27 seconds\n",
      "Mode choice for NHB started.\n",
      "✓ Parameter table for NHB generated. Time elapsed: 7618.04 seconds\n",
      "✓ Trips for 0_PK calculated. Time elapsed: 7627.23 seconds\n",
      "✓ Trips for 1_PK calculated. Time elapsed: 7636.18 seconds\n",
      "✓ Trips for 0_OP calculated. Time elapsed: 7645.85 seconds\n",
      "✓ Trips for 1_OP calculated. Time elapsed: 7654.63 seconds\n",
      "Mode choice for HBSc1 started.\n",
      "✓ Parameter table for HBSc1 generated. Time elapsed: 7655.43 seconds\n",
      "✓ Trips for 0_PK calculated. Time elapsed: 7660.87 seconds\n",
      "✓ Trips for 1_PK calculated. Time elapsed: 7666.58 seconds\n",
      "✓ Trips for 0_OP calculated. Time elapsed: 7672.33 seconds\n",
      "✓ Trips for 1_OP calculated. Time elapsed: 7677.98 seconds\n",
      "Mode choice for HBSc2 started.\n",
      "✓ Parameter table for HBSc2 generated. Time elapsed: 7678.55 seconds\n",
      "✓ Trips for 0_PK calculated. Time elapsed: 7683.92 seconds\n",
      "✓ Trips for 1_PK calculated. Time elapsed: 7691.44 seconds\n",
      "✓ Trips for 0_OP calculated. Time elapsed: 7697.44 seconds\n",
      "✓ Trips for 1_OP calculated. Time elapsed: 7703.57 seconds\n",
      "Mode choice for HBSc3 started.\n",
      "✓ Parameter table for HBSc3 generated. Time elapsed: 7704.19 seconds\n",
      "✓ Trips for 0_PK calculated. Time elapsed: 7712.89 seconds\n",
      "✓ Trips for 1_PK calculated. Time elapsed: 7721.48 seconds\n",
      "✓ Trips for 0_OP calculated. Time elapsed: 7728.60 seconds\n",
      "✓ Trips for 1_OP calculated. Time elapsed: 7735.73 seconds\n",
      "\"CAV\" enabled: 10% of car-owning households convert to zero-car households, reduced travel time, driving cost and parking cost.\n",
      "Running CAV scenario for families with no vehicle or no access to CAV...\n",
      "Running for all purposes...\n",
      "Mode choice for HBW started.\n",
      "✓ Parameter table for HBW generated. Time elapsed: 0.02 seconds\n"
     ]
    },
    {
     "ename": "AttributeError",
     "evalue": "'Mode_Choice' object has no attribute 'skim_PK_dict'",
     "output_type": "error",
     "traceback": [
      "\u001b[1;31m---------------------------------------------------------------------------\u001b[0m",
      "\u001b[1;31mAttributeError\u001b[0m                            Traceback (most recent call last)",
      "\u001b[1;32m<ipython-input-16-3ea49da85ffb>\u001b[0m in \u001b[0;36m<module>\u001b[1;34m()\u001b[0m\n\u001b[0;32m     13\u001b[0m         \u001b[0mconfig\u001b[0m\u001b[1;33m.\u001b[0m\u001b[0mscenario_switches\u001b[0m\u001b[1;33m[\u001b[0m\u001b[0mkey\u001b[0m\u001b[1;33m]\u001b[0m \u001b[1;33m=\u001b[0m \u001b[1;32mFalse\u001b[0m\u001b[1;33m\u001b[0m\u001b[0m\n\u001b[0;32m     14\u001b[0m     \u001b[0mconfig\u001b[0m\u001b[1;33m.\u001b[0m\u001b[0mscenario_switches\u001b[0m\u001b[1;33m[\u001b[0m\u001b[0mscenario\u001b[0m\u001b[1;33m]\u001b[0m \u001b[1;33m=\u001b[0m \u001b[1;32mTrue\u001b[0m\u001b[1;33m\u001b[0m\u001b[0m\n\u001b[1;32m---> 15\u001b[1;33m     \u001b[0mse\u001b[0m\u001b[1;33m.\u001b[0m\u001b[0mimplement_scenarios\u001b[0m\u001b[1;33m(\u001b[0m\u001b[0mmc\u001b[0m\u001b[1;33m)\u001b[0m\u001b[1;33m\u001b[0m\u001b[0m\n\u001b[0m\u001b[0;32m     16\u001b[0m \u001b[1;31m# step 3: save key outputs\u001b[0m\u001b[1;33m\u001b[0m\u001b[1;33m\u001b[0m\u001b[0m\n\u001b[0;32m     17\u001b[0m     \u001b[0mmc_util\u001b[0m\u001b[1;33m.\u001b[0m\u001b[0mwrite_mode_share_to_excel\u001b[0m\u001b[1;33m(\u001b[0m\u001b[0mmc\u001b[0m\u001b[1;33m,\u001b[0m\u001b[0mpurpose\u001b[0m \u001b[1;33m=\u001b[0m \u001b[1;34m'all'\u001b[0m\u001b[1;33m,\u001b[0m\u001b[0mout_excel_fn\u001b[0m \u001b[1;33m=\u001b[0m \u001b[0mconfig\u001b[0m\u001b[1;33m.\u001b[0m\u001b[0mout_path\u001b[0m \u001b[1;33m+\u001b[0m \u001b[0mscenario\u001b[0m \u001b[1;33m+\u001b[0m\u001b[1;34m'_mode_share.xlsx'\u001b[0m\u001b[1;33m)\u001b[0m\u001b[1;33m\u001b[0m\u001b[0m\n",
      "\u001b[1;32m~\\Documents\\CFB\\Files\\2040\\scenario_editor.py\u001b[0m in \u001b[0;36mimplement_scenarios\u001b[1;34m(mc_obj)\u001b[0m\n\u001b[0;32m     84\u001b[0m \u001b[1;33m\u001b[0m\u001b[0m\n\u001b[0;32m     85\u001b[0m                         \u001b[0mprint\u001b[0m\u001b[1;33m(\u001b[0m\u001b[1;34m'Running CAV scenario for families with no vehicle or no access to CAV...'\u001b[0m\u001b[1;33m)\u001b[0m\u001b[1;33m\u001b[0m\u001b[0m\n\u001b[1;32m---> 86\u001b[1;33m                         \u001b[0mmc1\u001b[0m\u001b[1;33m.\u001b[0m\u001b[0mrun_model\u001b[0m\u001b[1;33m(\u001b[0m\u001b[0mall_purposes\u001b[0m \u001b[1;33m=\u001b[0m \u001b[1;32mTrue\u001b[0m\u001b[1;33m)\u001b[0m\u001b[1;33m\u001b[0m\u001b[0m\n\u001b[0m\u001b[0;32m     87\u001b[0m                         \u001b[0mprint\u001b[0m\u001b[1;33m(\u001b[0m\u001b[1;34m'Running CAV scenario for families with access to CAV...'\u001b[0m\u001b[1;33m)\u001b[0m\u001b[1;33m\u001b[0m\u001b[0m\n\u001b[0;32m     88\u001b[0m                         \u001b[0mmc2\u001b[0m\u001b[1;33m.\u001b[0m\u001b[0mrun_model\u001b[0m\u001b[1;33m(\u001b[0m\u001b[0mall_purposes\u001b[0m \u001b[1;33m=\u001b[0m \u001b[1;32mTrue\u001b[0m\u001b[1;33m)\u001b[0m\u001b[1;33m\u001b[0m\u001b[0m\n",
      "\u001b[1;32m~\\Documents\\CFB\\Files\\2040\\mode_choice.py\u001b[0m in \u001b[0;36mrun_model\u001b[1;34m(self, all_purposes)\u001b[0m\n\u001b[0;32m     43\u001b[0m                         \u001b[1;32mfor\u001b[0m \u001b[0mpurpose\u001b[0m \u001b[1;32min\u001b[0m \u001b[1;33m[\u001b[0m\u001b[1;34m'HBW'\u001b[0m\u001b[1;33m,\u001b[0m\u001b[1;34m'HBO'\u001b[0m\u001b[1;33m,\u001b[0m\u001b[1;34m'NHB'\u001b[0m\u001b[1;33m,\u001b[0m \u001b[1;34m'HBSc1'\u001b[0m\u001b[1;33m,\u001b[0m\u001b[1;34m'HBSc2'\u001b[0m\u001b[1;33m,\u001b[0m\u001b[1;34m'HBSc3'\u001b[0m\u001b[1;33m]\u001b[0m\u001b[1;33m:\u001b[0m\u001b[1;33m\u001b[0m\u001b[0m\n\u001b[0;32m     44\u001b[0m                                 \u001b[0mprint\u001b[0m\u001b[1;33m(\u001b[0m\u001b[1;34mf'Mode choice for {purpose} started.'\u001b[0m\u001b[1;33m)\u001b[0m\u001b[1;33m\u001b[0m\u001b[0m\n\u001b[1;32m---> 45\u001b[1;33m                                 \u001b[0mself\u001b[0m\u001b[1;33m.\u001b[0m\u001b[0mrun_for_purpose\u001b[0m\u001b[1;33m(\u001b[0m\u001b[0mpurpose\u001b[0m\u001b[1;33m)\u001b[0m\u001b[1;33m\u001b[0m\u001b[0m\n\u001b[0m\u001b[0;32m     46\u001b[0m                                 \u001b[0mwrite_mode_share_to_excel\u001b[0m\u001b[1;33m(\u001b[0m\u001b[0mself\u001b[0m\u001b[1;33m,\u001b[0m\u001b[0mpurpose\u001b[0m\u001b[1;33m)\u001b[0m\u001b[1;33m\u001b[0m\u001b[0m\n\u001b[0;32m     47\u001b[0m                 \u001b[1;32melse\u001b[0m\u001b[1;33m:\u001b[0m\u001b[1;33m\u001b[0m\u001b[0m\n",
      "\u001b[1;32m~\\Documents\\CFB\\Files\\2040\\mode_choice.py\u001b[0m in \u001b[0;36mrun_for_purpose\u001b[1;34m(self, purpose)\u001b[0m\n\u001b[0;32m     53\u001b[0m                         \u001b[0mpurpose\u001b[0m \u001b[1;33m=\u001b[0m \u001b[0mself\u001b[0m\u001b[1;33m.\u001b[0m\u001b[0mpurpose\u001b[0m\u001b[1;33m\u001b[0m\u001b[0m\n\u001b[0;32m     54\u001b[0m                 \u001b[0mself\u001b[0m\u001b[1;33m.\u001b[0m\u001b[0mread_param\u001b[0m\u001b[1;33m(\u001b[0m\u001b[0mpurpose\u001b[0m\u001b[1;33m)\u001b[0m\u001b[1;33m\u001b[0m\u001b[0m\n\u001b[1;32m---> 55\u001b[1;33m                 \u001b[0mself\u001b[0m\u001b[1;33m.\u001b[0m\u001b[0mcalculate_trips_by_mode\u001b[0m\u001b[1;33m(\u001b[0m\u001b[1;33m)\u001b[0m\u001b[1;33m\u001b[0m\u001b[0m\n\u001b[0m\u001b[0;32m     56\u001b[0m                 \u001b[0mself\u001b[0m\u001b[1;33m.\u001b[0m\u001b[0mtable_container\u001b[0m\u001b[1;33m.\u001b[0m\u001b[0mstore_table\u001b[0m\u001b[1;33m(\u001b[0m\u001b[0mpurpose\u001b[0m\u001b[1;33m)\u001b[0m\u001b[1;33m\u001b[0m\u001b[0m\n\u001b[0;32m     57\u001b[0m \u001b[1;33m\u001b[0m\u001b[0m\n",
      "\u001b[1;32m~\\Documents\\CFB\\Files\\2040\\mode_choice.py\u001b[0m in \u001b[0;36mcalculate_trips_by_mode\u001b[1;34m(self)\u001b[0m\n\u001b[0;32m    379\u001b[0m \u001b[1;33m\u001b[0m\u001b[0m\n\u001b[0;32m    380\u001b[0m                 \u001b[1;32mfor\u001b[0m \u001b[0mpv\u001b[0m \u001b[1;32min\u001b[0m \u001b[0mself\u001b[0m\u001b[1;33m.\u001b[0m\u001b[0mpeak_veh\u001b[0m\u001b[1;33m:\u001b[0m\u001b[1;33m\u001b[0m\u001b[0m\n\u001b[1;32m--> 381\u001b[1;33m                         \u001b[0mmode_probs\u001b[0m \u001b[1;33m=\u001b[0m \u001b[0mself\u001b[0m\u001b[1;33m.\u001b[0m\u001b[0mmode_probability_tables\u001b[0m\u001b[1;33m(\u001b[0m\u001b[0mpv\u001b[0m\u001b[1;33m,\u001b[0m\u001b[0mmodes\u001b[0m\u001b[1;33m)\u001b[0m\u001b[1;33m[\u001b[0m\u001b[1;36m0\u001b[0m\u001b[1;33m]\u001b[0m\u001b[1;33m\u001b[0m\u001b[0m\n\u001b[0m\u001b[0;32m    382\u001b[0m                         \u001b[0mprint\u001b[0m\u001b[1;33m(\u001b[0m\u001b[1;34mf'✓ Trips for {pv} calculated. Time elapsed: {time.time()-self.start_time:.2f} seconds'\u001b[0m\u001b[1;33m)\u001b[0m\u001b[1;33m\u001b[0m\u001b[0m\n\u001b[0;32m    383\u001b[0m                         \u001b[1;32mfor\u001b[0m \u001b[0mmode\u001b[0m \u001b[1;32min\u001b[0m \u001b[0mmodes\u001b[0m\u001b[1;33m:\u001b[0m\u001b[1;33m\u001b[0m\u001b[0m\n",
      "\u001b[1;32m~\\Documents\\CFB\\Files\\2040\\mode_choice.py\u001b[0m in \u001b[0;36mmode_probability_tables\u001b[1;34m(self, pv, modes)\u001b[0m\n\u001b[0;32m    315\u001b[0m                         \u001b[0mvar_values\u001b[0m\u001b[1;33m[\u001b[0m\u001b[0mmode\u001b[0m\u001b[1;33m]\u001b[0m\u001b[1;33m=\u001b[0m\u001b[1;33m{\u001b[0m\u001b[1;33m}\u001b[0m\u001b[1;33m\u001b[0m\u001b[0m\n\u001b[0;32m    316\u001b[0m                         \u001b[1;32mfor\u001b[0m \u001b[0mvar\u001b[0m \u001b[1;32min\u001b[0m \u001b[0mself\u001b[0m\u001b[1;33m.\u001b[0m\u001b[0mvar_list\u001b[0m\u001b[1;33m:\u001b[0m\u001b[1;33m\u001b[0m\u001b[0m\n\u001b[1;32m--> 317\u001b[1;33m                                 \u001b[0mvar_values\u001b[0m\u001b[1;33m[\u001b[0m\u001b[0mmode\u001b[0m\u001b[1;33m]\u001b[0m\u001b[1;33m[\u001b[0m\u001b[0mvar\u001b[0m\u001b[1;33m]\u001b[0m \u001b[1;33m=\u001b[0m \u001b[0mself\u001b[0m\u001b[1;33m.\u001b[0m\u001b[0mvar_by_mode\u001b[0m\u001b[1;33m(\u001b[0m\u001b[0mpv\u001b[0m\u001b[1;33m,\u001b[0m\u001b[0mvar\u001b[0m\u001b[1;33m,\u001b[0m\u001b[0mmode\u001b[0m\u001b[1;33m)\u001b[0m\u001b[1;33m\u001b[0m\u001b[0m\n\u001b[0m\u001b[0;32m    318\u001b[0m \u001b[1;33m\u001b[0m\u001b[0m\n\u001b[0;32m    319\u001b[0m                 \u001b[1;31m# compute utility for each mode.\u001b[0m\u001b[1;33m\u001b[0m\u001b[1;33m\u001b[0m\u001b[0m\n",
      "\u001b[1;32m~\\Documents\\CFB\\Files\\2040\\mode_choice.py\u001b[0m in \u001b[0;36mvar_by_mode\u001b[1;34m(self, pv, var, mode)\u001b[0m\n\u001b[0;32m    135\u001b[0m                 \u001b[0mpeak\u001b[0m \u001b[1;33m=\u001b[0m \u001b[0mpv\u001b[0m\u001b[1;33m[\u001b[0m\u001b[1;36m2\u001b[0m\u001b[1;33m:\u001b[0m\u001b[1;33m]\u001b[0m\u001b[1;33m\u001b[0m\u001b[0m\n\u001b[0;32m    136\u001b[0m                 \u001b[1;32mif\u001b[0m \u001b[0mpeak\u001b[0m \u001b[1;33m==\u001b[0m \u001b[1;34m'PK'\u001b[0m\u001b[1;33m:\u001b[0m\u001b[1;33m\u001b[0m\u001b[0m\n\u001b[1;32m--> 137\u001b[1;33m                         \u001b[0mskim_dict\u001b[0m \u001b[1;33m=\u001b[0m \u001b[0mself\u001b[0m\u001b[1;33m.\u001b[0m\u001b[0mskim_PK_dict\u001b[0m\u001b[1;33m\u001b[0m\u001b[0m\n\u001b[0m\u001b[0;32m    138\u001b[0m                 \u001b[1;32melif\u001b[0m \u001b[0mpeak\u001b[0m \u001b[1;33m==\u001b[0m \u001b[1;34m'OP'\u001b[0m\u001b[1;33m:\u001b[0m\u001b[1;33m\u001b[0m\u001b[0m\n\u001b[0;32m    139\u001b[0m                         \u001b[0mskim_dict\u001b[0m \u001b[1;33m=\u001b[0m \u001b[0mself\u001b[0m\u001b[1;33m.\u001b[0m\u001b[0mskim_OP_dict\u001b[0m\u001b[1;33m\u001b[0m\u001b[0m\n",
      "\u001b[1;31mAttributeError\u001b[0m: 'Mode_Choice' object has no attribute 'skim_PK_dict'"
     ]
    }
   ],
   "source": [
    "# For loop to automatically implement each scenario.\n",
    "for scenario in [\n",
    " 'CAV',\n",
    " 'CAV_management_policy',\n",
    " 'smart_mobility',\n",
    " 'smart_mobility_management_policy',\n",
    " 'congestion_charge']:\n",
    "# step 1: revert to non-implementation\n",
    "    mc.load_input()\n",
    "    mc.run_model(all_purposes = True)\n",
    "# step 2: turn on scenario, turn off everything else\n",
    "    for key in config.scenario_switches:\n",
    "        config.scenario_switches[key] = False\n",
    "    config.scenario_switches[scenario] = True\n",
    "    se.implement_scenarios(mc)\n",
    "# step 3: save key outputs\n",
    "    mc_util.write_mode_share_to_excel(mc,purpose = 'all',out_excel_fn = config.out_path + scenario +'_mode_share.xlsx')\n",
    "    \n",
    "    for by in [None, 'peak','veh_own','purpose']:\n",
    "        mc_util.vmt_by_neighborhood(mc, by = by, out_fn = config.out_path +scenario+f'_vmt_by_neighborhood_{by}.csv')\n",
    "        mc_util.pmt_by_neighborhood(mc, by = by, out_fn = config.out_path +scenario+f'_pmt_by_neighborhood_{by}.csv')\n",
    "        mc_util.mode_share_by_neighborhood(mc, by = by , out_fn = config.out_path +scenario+f'_mode_share_nhood_{by}.csv')\n",
    "    try:\n",
    "        os.mkdir(config.out_path + scenario)\n",
    "    except:\n",
    "        pass\n",
    "    mc_util.write_summary_by_subregion(mc,out_path = config.out_path + scenario + '/')\n",
    "    \n",
    "    mc_util.write_trip_tables(mc, r'..\\output\\2040_trips_'+ scenario + '.omx')\n",
    "    \n",
    "    "
   ]
  },
  {
   "cell_type": "code",
   "execution_count": 9,
   "metadata": {},
   "outputs": [
    {
     "data": {
      "text/plain": [
       "dict"
      ]
     },
     "execution_count": 9,
     "metadata": {},
     "output_type": "execute_result"
    }
   ],
   "source": [
    "type(mc.pre_MC_trip_table)"
   ]
  },
  {
   "cell_type": "code",
   "execution_count": null,
   "metadata": {},
   "outputs": [],
   "source": [
    "se.implement_scenarios(mc)"
   ]
  },
  {
   "cell_type": "code",
   "execution_count": 5,
   "metadata": {},
   "outputs": [
    {
     "data": {
      "text/html": [
       "<style  type=\"text/css\" >\n",
       "</style>  \n",
       "<table id=\"T_a1358cde_71c5_11e9_b9a0_9c5c8e97c636\" > \n",
       "<thead>    <tr> \n",
       "        <th class=\"index_name level0\" >mode</th> \n",
       "        <th class=\"col_heading level0 col0\" >DA</th> \n",
       "        <th class=\"col_heading level0 col1\" >SR2</th> \n",
       "        <th class=\"col_heading level0 col2\" >Walk</th> \n",
       "        <th class=\"col_heading level0 col3\" >Bike</th> \n",
       "        <th class=\"col_heading level0 col4\" >WAT</th> \n",
       "        <th class=\"col_heading level0 col5\" >DAT_CR</th> \n",
       "        <th class=\"col_heading level0 col6\" >DAT_RT</th> \n",
       "        <th class=\"col_heading level0 col7\" >DAT_LB</th> \n",
       "    </tr></thead> \n",
       "<tbody>    <tr> \n",
       "        <th id=\"T_a1358cde_71c5_11e9_b9a0_9c5c8e97c636level0_row0\" class=\"row_heading level0 row0\" >0_PK</th> \n",
       "        <td id=\"T_a1358cde_71c5_11e9_b9a0_9c5c8e97c636row0_col0\" class=\"data row0 col0\" >5.34%</td> \n",
       "        <td id=\"T_a1358cde_71c5_11e9_b9a0_9c5c8e97c636row0_col1\" class=\"data row0 col1\" >30.57%</td> \n",
       "        <td id=\"T_a1358cde_71c5_11e9_b9a0_9c5c8e97c636row0_col2\" class=\"data row0 col2\" >19.13%</td> \n",
       "        <td id=\"T_a1358cde_71c5_11e9_b9a0_9c5c8e97c636row0_col3\" class=\"data row0 col3\" >0.28%</td> \n",
       "        <td id=\"T_a1358cde_71c5_11e9_b9a0_9c5c8e97c636row0_col4\" class=\"data row0 col4\" >32.17%</td> \n",
       "        <td id=\"T_a1358cde_71c5_11e9_b9a0_9c5c8e97c636row0_col5\" class=\"data row0 col5\" >4.79%</td> \n",
       "        <td id=\"T_a1358cde_71c5_11e9_b9a0_9c5c8e97c636row0_col6\" class=\"data row0 col6\" >4.06%</td> \n",
       "        <td id=\"T_a1358cde_71c5_11e9_b9a0_9c5c8e97c636row0_col7\" class=\"data row0 col7\" >3.66%</td> \n",
       "    </tr>    <tr> \n",
       "        <th id=\"T_a1358cde_71c5_11e9_b9a0_9c5c8e97c636level0_row1\" class=\"row_heading level0 row1\" >1_PK</th> \n",
       "        <td id=\"T_a1358cde_71c5_11e9_b9a0_9c5c8e97c636row1_col0\" class=\"data row1 col0\" >57.72%</td> \n",
       "        <td id=\"T_a1358cde_71c5_11e9_b9a0_9c5c8e97c636row1_col1\" class=\"data row1 col1\" >19.36%</td> \n",
       "        <td id=\"T_a1358cde_71c5_11e9_b9a0_9c5c8e97c636row1_col2\" class=\"data row1 col2\" >9.50%</td> \n",
       "        <td id=\"T_a1358cde_71c5_11e9_b9a0_9c5c8e97c636row1_col3\" class=\"data row1 col3\" >0.83%</td> \n",
       "        <td id=\"T_a1358cde_71c5_11e9_b9a0_9c5c8e97c636row1_col4\" class=\"data row1 col4\" >10.39%</td> \n",
       "        <td id=\"T_a1358cde_71c5_11e9_b9a0_9c5c8e97c636row1_col5\" class=\"data row1 col5\" >0.60%</td> \n",
       "        <td id=\"T_a1358cde_71c5_11e9_b9a0_9c5c8e97c636row1_col6\" class=\"data row1 col6\" >1.07%</td> \n",
       "        <td id=\"T_a1358cde_71c5_11e9_b9a0_9c5c8e97c636row1_col7\" class=\"data row1 col7\" >0.54%</td> \n",
       "    </tr>    <tr> \n",
       "        <th id=\"T_a1358cde_71c5_11e9_b9a0_9c5c8e97c636level0_row2\" class=\"row_heading level0 row2\" >0_OP</th> \n",
       "        <td id=\"T_a1358cde_71c5_11e9_b9a0_9c5c8e97c636row2_col0\" class=\"data row2 col0\" >4.64%</td> \n",
       "        <td id=\"T_a1358cde_71c5_11e9_b9a0_9c5c8e97c636row2_col1\" class=\"data row2 col1\" >44.05%</td> \n",
       "        <td id=\"T_a1358cde_71c5_11e9_b9a0_9c5c8e97c636row2_col2\" class=\"data row2 col2\" >20.51%</td> \n",
       "        <td id=\"T_a1358cde_71c5_11e9_b9a0_9c5c8e97c636row2_col3\" class=\"data row2 col3\" >0.23%</td> \n",
       "        <td id=\"T_a1358cde_71c5_11e9_b9a0_9c5c8e97c636row2_col4\" class=\"data row2 col4\" >19.29%</td> \n",
       "        <td id=\"T_a1358cde_71c5_11e9_b9a0_9c5c8e97c636row2_col5\" class=\"data row2 col5\" >4.27%</td> \n",
       "        <td id=\"T_a1358cde_71c5_11e9_b9a0_9c5c8e97c636row2_col6\" class=\"data row2 col6\" >3.95%</td> \n",
       "        <td id=\"T_a1358cde_71c5_11e9_b9a0_9c5c8e97c636row2_col7\" class=\"data row2 col7\" >3.06%</td> \n",
       "    </tr>    <tr> \n",
       "        <th id=\"T_a1358cde_71c5_11e9_b9a0_9c5c8e97c636level0_row3\" class=\"row_heading level0 row3\" >1_OP</th> \n",
       "        <td id=\"T_a1358cde_71c5_11e9_b9a0_9c5c8e97c636row3_col0\" class=\"data row3 col0\" >66.70%</td> \n",
       "        <td id=\"T_a1358cde_71c5_11e9_b9a0_9c5c8e97c636row3_col1\" class=\"data row3 col1\" >17.81%</td> \n",
       "        <td id=\"T_a1358cde_71c5_11e9_b9a0_9c5c8e97c636row3_col2\" class=\"data row3 col2\" >3.11%</td> \n",
       "        <td id=\"T_a1358cde_71c5_11e9_b9a0_9c5c8e97c636row3_col3\" class=\"data row3 col3\" >0.93%</td> \n",
       "        <td id=\"T_a1358cde_71c5_11e9_b9a0_9c5c8e97c636row3_col4\" class=\"data row3 col4\" >9.64%</td> \n",
       "        <td id=\"T_a1358cde_71c5_11e9_b9a0_9c5c8e97c636row3_col5\" class=\"data row3 col5\" >0.42%</td> \n",
       "        <td id=\"T_a1358cde_71c5_11e9_b9a0_9c5c8e97c636row3_col6\" class=\"data row3 col6\" >0.93%</td> \n",
       "        <td id=\"T_a1358cde_71c5_11e9_b9a0_9c5c8e97c636row3_col7\" class=\"data row3 col7\" >0.45%</td> \n",
       "    </tr></tbody> \n",
       "</table> "
      ],
      "text/plain": [
       "<pandas.io.formats.style.Styler at 0x1bacb589ef0>"
      ]
     },
     "metadata": {},
     "output_type": "display_data"
    }
   ],
   "source": [
    "mc_util.display_mode_share(mc)"
   ]
  },
  {
   "cell_type": "code",
   "execution_count": 8,
   "metadata": {},
   "outputs": [],
   "source": [
    "mc_util.write_mode_share_to_excel(mc,purpose = 'all',out_excel_fn = config.out_path + 'mode_share_transit_improv.xlsx')"
   ]
  },
  {
   "cell_type": "code",
   "execution_count": 5,
   "metadata": {
    "scrolled": true
   },
   "outputs": [
    {
     "name": "stderr",
     "output_type": "stream",
     "text": [
      "C:\\ProgramData\\Anaconda3\\lib\\site-packages\\pandas\\core\\frame.py:6211: FutureWarning: Sorting because non-concatenation axis is not aligned. A future version\n",
      "of pandas will change to not sort by default.\n",
      "\n",
      "To accept the future behavior, pass 'sort=False'.\n",
      "\n",
      "To retain the current behavior and silence the warning, pass 'sort=True'.\n",
      "\n",
      "  sort=sort)\n"
     ]
    }
   ],
   "source": [
    "mc_util.vmt_by_neighborhood(mc, by = 'purpose')"
   ]
  },
  {
   "cell_type": "code",
   "execution_count": 6,
   "metadata": {},
   "outputs": [],
   "source": [
    "mc_util.pmt_by_neighborhood(mc, by = 'veh_own')"
   ]
  },
  {
   "cell_type": "code",
   "execution_count": 7,
   "metadata": {},
   "outputs": [],
   "source": [
    "mc_util.mode_share_by_neighborhood(mc, by = 'peak')"
   ]
  },
  {
   "cell_type": "code",
   "execution_count": null,
   "metadata": {},
   "outputs": [],
   "source": []
  },
  {
   "cell_type": "code",
   "execution_count": null,
   "metadata": {},
   "outputs": [],
   "source": []
  },
  {
   "cell_type": "code",
   "execution_count": null,
   "metadata": {},
   "outputs": [],
   "source": []
  },
  {
   "cell_type": "code",
   "execution_count": null,
   "metadata": {},
   "outputs": [],
   "source": [
    "mc_util.write_summary_by_subregion(mc)"
   ]
  },
  {
   "cell_type": "code",
   "execution_count": null,
   "metadata": {},
   "outputs": [],
   "source": [
    "mc_util.transit_ridership(mc)"
   ]
  },
  {
   "cell_type": "code",
   "execution_count": 11,
   "metadata": {},
   "outputs": [],
   "source": [
    "mc_util.write_trip_tables(mc, r'..\\output\\2040_trips_no_scenario.omx')"
   ]
  },
  {
   "cell_type": "code",
   "execution_count": null,
   "metadata": {},
   "outputs": [],
   "source": []
  }
 ],
 "metadata": {
  "kernelspec": {
   "display_name": "Python 3",
   "language": "python",
   "name": "python3"
  },
  "language_info": {
   "codemirror_mode": {
    "name": "ipython",
    "version": 3
   },
   "file_extension": ".py",
   "mimetype": "text/x-python",
   "name": "python",
   "nbconvert_exporter": "python",
   "pygments_lexer": "ipython3",
   "version": "3.6.5"
  },
  "toc": {
   "base_numbering": 1,
   "nav_menu": {},
   "number_sections": true,
   "sideBar": true,
   "skip_h1_title": false,
   "title_cell": "Table of Contents",
   "title_sidebar": "Contents",
   "toc_cell": false,
   "toc_position": {},
   "toc_section_display": true,
   "toc_window_display": false
  }
 },
 "nbformat": 4,
 "nbformat_minor": 2
}
