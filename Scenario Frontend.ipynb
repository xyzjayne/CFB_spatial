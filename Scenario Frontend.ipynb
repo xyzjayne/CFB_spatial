{
 "cells": [
  {
   "cell_type": "code",
   "execution_count": 1,
   "metadata": {},
   "outputs": [],
   "source": [
    "import sys, os\n",
    "\n",
    "import config\n",
    "import mode_choice\n",
    "import mc_util\n",
    "import scenario_editor as se\n",
    "\n",
    "mc = mode_choice.Mode_Choice(config,run_now = False)"
   ]
  },
  {
   "cell_type": "code",
   "execution_count": 2,
   "metadata": {},
   "outputs": [
    {
     "name": "stdout",
     "output_type": "stream",
     "text": [
      "✓ TAZ / land use / parking / zonal variables read. Time elapsed: 0.19 seconds\n",
      "✓ skims read. Time elapsed: 17.35 seconds\n",
      "✓ trip table read. Time elapsed: 25.88 seconds\n",
      "✓ zonal variable tables generated. Time elapsed: 26.26 seconds\n",
      "Running for all purposes...\n",
      "Mode choice for HBW started.\n",
      "✓ Parameter table for HBW generated. Time elapsed: 26.43 seconds\n",
      "✓ Trips for 0_PK calculated. Time elapsed: 38.68 seconds\n",
      "✓ Trips for 1_PK calculated. Time elapsed: 49.32 seconds\n",
      "✓ Trips for 0_OP calculated. Time elapsed: 59.92 seconds\n",
      "✓ Trips for 1_OP calculated. Time elapsed: 70.27 seconds\n",
      "Mode choice for HBO started.\n",
      "✓ Parameter table for HBO generated. Time elapsed: 71.06 seconds\n",
      "✓ Trips for 0_PK calculated. Time elapsed: 78.06 seconds\n",
      "✓ Trips for 1_PK calculated. Time elapsed: 85.23 seconds\n",
      "✓ Trips for 0_OP calculated. Time elapsed: 92.57 seconds\n",
      "✓ Trips for 1_OP calculated. Time elapsed: 99.80 seconds\n",
      "Mode choice for NHB started.\n",
      "✓ Parameter table for NHB generated. Time elapsed: 100.44 seconds\n",
      "✓ Trips for 0_PK calculated. Time elapsed: 108.41 seconds\n",
      "✓ Trips for 1_PK calculated. Time elapsed: 116.89 seconds\n",
      "✓ Trips for 0_OP calculated. Time elapsed: 125.79 seconds\n",
      "✓ Trips for 1_OP calculated. Time elapsed: 136.93 seconds\n",
      "Mode choice for HBSc1 started.\n",
      "✓ Parameter table for HBSc1 generated. Time elapsed: 137.64 seconds\n",
      "✓ Trips for 0_PK calculated. Time elapsed: 143.09 seconds\n",
      "✓ Trips for 1_PK calculated. Time elapsed: 148.76 seconds\n",
      "✓ Trips for 0_OP calculated. Time elapsed: 154.51 seconds\n",
      "✓ Trips for 1_OP calculated. Time elapsed: 160.21 seconds\n",
      "Mode choice for HBSc2 started.\n",
      "✓ Parameter table for HBSc2 generated. Time elapsed: 160.73 seconds\n",
      "✓ Trips for 0_PK calculated. Time elapsed: 166.14 seconds\n",
      "✓ Trips for 1_PK calculated. Time elapsed: 173.16 seconds\n",
      "✓ Trips for 0_OP calculated. Time elapsed: 179.86 seconds\n",
      "✓ Trips for 1_OP calculated. Time elapsed: 186.09 seconds\n",
      "Mode choice for HBSc3 started.\n",
      "✓ Parameter table for HBSc3 generated. Time elapsed: 186.65 seconds\n",
      "✓ Trips for 0_PK calculated. Time elapsed: 193.38 seconds\n",
      "✓ Trips for 1_PK calculated. Time elapsed: 200.93 seconds\n",
      "✓ Trips for 0_OP calculated. Time elapsed: 210.17 seconds\n",
      "✓ Trips for 1_OP calculated. Time elapsed: 220.73 seconds\n"
     ]
    }
   ],
   "source": [
    "mc.load_input()\n",
    "mc.run_model(all_purposes = True)"
   ]
  },
  {
   "cell_type": "code",
   "execution_count": 2,
   "metadata": {},
   "outputs": [
    {
     "data": {
      "text/plain": [
       "{'clean_vehicle': False,\n",
       " 'growth_shift': False,\n",
       " 'transit_improvements': False,\n",
       " 'active_transportation_improvements': False,\n",
       " 'TDM': False,\n",
       " 'CAV': False,\n",
       " 'CAV_management_policy': False,\n",
       " 'smart_mobility': False,\n",
       " 'smart_mobility_management_policy': False,\n",
       " 'congestion_charge': False}"
      ]
     },
     "metadata": {},
     "output_type": "display_data"
    }
   ],
   "source": [
    "from IPython.display import display\n",
    "display(config.scenario_switches)"
   ]
  },
  {
   "cell_type": "code",
   "execution_count": 13,
   "metadata": {},
   "outputs": [
    {
     "data": {
      "text/plain": [
       "['clean_vehicle',\n",
       " 'growth_shift',\n",
       " 'transit_improvements',\n",
       " 'active_transportation_improvements',\n",
       " 'TDM',\n",
       " 'CAV',\n",
       " 'CAV_management_policy',\n",
       " 'smart_mobility',\n",
       " 'smart_mobility_management_policy',\n",
       " 'congestion_charge']"
      ]
     },
     "execution_count": 13,
     "metadata": {},
     "output_type": "execute_result"
    }
   ],
   "source": [
    "list(config.scenario_switches.keys())"
   ]
  },
  {
   "cell_type": "code",
   "execution_count": 19,
   "metadata": {},
   "outputs": [
    {
     "data": {
      "text/plain": [
       "<module 'scenario_editor' from 'C:\\\\Users\\\\xy.chang\\\\Documents\\\\CFB\\\\Files\\\\2040\\\\scenario_editor.py'>"
      ]
     },
     "execution_count": 19,
     "metadata": {},
     "output_type": "execute_result"
    }
   ],
   "source": [
    "import importlib\n",
    "importlib.reload(se)"
   ]
  },
  {
   "cell_type": "code",
   "execution_count": 27,
   "metadata": {},
   "outputs": [
    {
     "name": "stdout",
     "output_type": "stream",
     "text": [
      "✓ TAZ / land use / parking / zonal variables read. Time elapsed: 15409.59 seconds\n",
      "✓ skims read. Time elapsed: 15426.88 seconds\n",
      "✓ trip table read. Time elapsed: 15435.43 seconds\n",
      "✓ zonal variable tables generated. Time elapsed: 15435.87 seconds\n",
      "Running for all purposes...\n",
      "Mode choice for HBW started.\n",
      "✓ Parameter table for HBW generated. Time elapsed: 15435.95 seconds\n",
      "✓ Trips for 0_PK calculated. Time elapsed: 15452.32 seconds\n",
      "✓ Trips for 1_PK calculated. Time elapsed: 15464.31 seconds\n",
      "✓ Trips for 0_OP calculated. Time elapsed: 15475.09 seconds\n",
      "✓ Trips for 1_OP calculated. Time elapsed: 15485.57 seconds\n",
      "Mode choice for HBO started.\n",
      "✓ Parameter table for HBO generated. Time elapsed: 15487.05 seconds\n",
      "✓ Trips for 0_PK calculated. Time elapsed: 15494.17 seconds\n",
      "✓ Trips for 1_PK calculated. Time elapsed: 15501.54 seconds\n",
      "✓ Trips for 0_OP calculated. Time elapsed: 15508.80 seconds\n",
      "✓ Trips for 1_OP calculated. Time elapsed: 15516.08 seconds\n",
      "Mode choice for NHB started.\n",
      "✓ Parameter table for NHB generated. Time elapsed: 15516.80 seconds\n",
      "✓ Trips for 0_PK calculated. Time elapsed: 15524.74 seconds\n",
      "✓ Trips for 1_PK calculated. Time elapsed: 15536.09 seconds\n",
      "✓ Trips for 0_OP calculated. Time elapsed: 15545.99 seconds\n",
      "✓ Trips for 1_OP calculated. Time elapsed: 15554.58 seconds\n",
      "Mode choice for HBSc1 started.\n",
      "✓ Parameter table for HBSc1 generated. Time elapsed: 15555.41 seconds\n",
      "✓ Trips for 0_PK calculated. Time elapsed: 15561.08 seconds\n",
      "✓ Trips for 1_PK calculated. Time elapsed: 15566.78 seconds\n",
      "✓ Trips for 0_OP calculated. Time elapsed: 15572.41 seconds\n",
      "✓ Trips for 1_OP calculated. Time elapsed: 15578.18 seconds\n",
      "Mode choice for HBSc2 started.\n",
      "✓ Parameter table for HBSc2 generated. Time elapsed: 15578.75 seconds\n",
      "✓ Trips for 0_PK calculated. Time elapsed: 15584.22 seconds\n",
      "✓ Trips for 1_PK calculated. Time elapsed: 15591.19 seconds\n",
      "✓ Trips for 0_OP calculated. Time elapsed: 15598.52 seconds\n",
      "✓ Trips for 1_OP calculated. Time elapsed: 15604.75 seconds\n",
      "Mode choice for HBSc3 started.\n",
      "✓ Parameter table for HBSc3 generated. Time elapsed: 15605.42 seconds\n",
      "✓ Trips for 0_PK calculated. Time elapsed: 15613.31 seconds\n",
      "✓ Trips for 1_PK calculated. Time elapsed: 15621.77 seconds\n",
      "✓ Trips for 0_OP calculated. Time elapsed: 15628.83 seconds\n",
      "✓ Trips for 1_OP calculated. Time elapsed: 15636.00 seconds\n",
      "\"Congestion Charge\" enabled: $5 toll charge for auto trips entering central Boston.\n",
      "Running for all purposes...\n",
      "Mode choice for HBW started.\n",
      "✓ Parameter table for HBW generated. Time elapsed: 15636.81 seconds\n",
      "✓ Trips for 0_PK calculated. Time elapsed: 15651.91 seconds\n",
      "✓ Trips for 1_PK calculated. Time elapsed: 15663.23 seconds\n",
      "✓ Trips for 0_OP calculated. Time elapsed: 15676.41 seconds\n",
      "✓ Trips for 1_OP calculated. Time elapsed: 15687.17 seconds\n",
      "Mode choice for HBO started.\n",
      "✓ Parameter table for HBO generated. Time elapsed: 15688.24 seconds\n",
      "✓ Trips for 0_PK calculated. Time elapsed: 15695.26 seconds\n",
      "✓ Trips for 1_PK calculated. Time elapsed: 15702.47 seconds\n",
      "✓ Trips for 0_OP calculated. Time elapsed: 15709.83 seconds\n",
      "✓ Trips for 1_OP calculated. Time elapsed: 15717.04 seconds\n",
      "Mode choice for NHB started.\n",
      "✓ Parameter table for NHB generated. Time elapsed: 15717.79 seconds\n",
      "✓ Trips for 0_PK calculated. Time elapsed: 15725.74 seconds\n",
      "✓ Trips for 1_PK calculated. Time elapsed: 15737.41 seconds\n",
      "✓ Trips for 0_OP calculated. Time elapsed: 15745.89 seconds\n",
      "✓ Trips for 1_OP calculated. Time elapsed: 15754.39 seconds\n",
      "Mode choice for HBSc1 started.\n",
      "✓ Parameter table for HBSc1 generated. Time elapsed: 15755.19 seconds\n",
      "✓ Trips for 0_PK calculated. Time elapsed: 15760.65 seconds\n",
      "✓ Trips for 1_PK calculated. Time elapsed: 15766.54 seconds\n",
      "✓ Trips for 0_OP calculated. Time elapsed: 15772.31 seconds\n",
      "✓ Trips for 1_OP calculated. Time elapsed: 15777.98 seconds\n",
      "Mode choice for HBSc2 started.\n",
      "✓ Parameter table for HBSc2 generated. Time elapsed: 15778.54 seconds\n",
      "✓ Trips for 0_PK calculated. Time elapsed: 15784.05 seconds\n",
      "✓ Trips for 1_PK calculated. Time elapsed: 15790.84 seconds\n",
      "✓ Trips for 0_OP calculated. Time elapsed: 15797.19 seconds\n",
      "✓ Trips for 1_OP calculated. Time elapsed: 15803.08 seconds\n",
      "Mode choice for HBSc3 started.\n",
      "✓ Parameter table for HBSc3 generated. Time elapsed: 15803.68 seconds\n",
      "✓ Trips for 0_PK calculated. Time elapsed: 15813.17 seconds\n",
      "✓ Trips for 1_PK calculated. Time elapsed: 15820.67 seconds\n",
      "✓ Trips for 0_OP calculated. Time elapsed: 15828.08 seconds\n",
      "✓ Trips for 1_OP calculated. Time elapsed: 15836.21 seconds\n",
      "Scenario run is finished. You may now call methods in mc_util to produce output summaries.\n"
     ]
    },
    {
     "name": "stderr",
     "output_type": "stream",
     "text": [
      "C:\\ProgramData\\Anaconda3\\lib\\site-packages\\pandas\\core\\frame.py:6201: FutureWarning: Sorting because non-concatenation axis is not aligned. A future version\n",
      "of pandas will change to not sort by default.\n",
      "\n",
      "To accept the future behavior, pass 'sort=True'.\n",
      "\n",
      "To retain the current behavior and silence the warning, pass sort=False\n",
      "\n",
      "  sort=sort)\n"
     ]
    }
   ],
   "source": [
    "# For loop to automatically implement each scenario.\n",
    "for scenario in [\n",
    " 'congestion_charge']:\n",
    "# step 1: revert to non-implementation\n",
    "    mc.load_input()\n",
    "    mc.run_model(all_purposes = True)\n",
    "# step 2: turn on scenario, turn off everything else\n",
    "    for key in config.scenario_switches:\n",
    "        config.scenario_switches[key] = False\n",
    "    config.scenario_switches[scenario] = True\n",
    "    se.implement_scenarios(mc)\n",
    "# step 3: save key outputs\n",
    "    mc_util.write_mode_share_to_excel(mc,purpose = 'all',out_excel_fn = config.out_path + scenario +'_mode_share.xlsx')\n",
    "    \n",
    "    for by in [None, 'peak','veh_own','purpose']:\n",
    "        mc_util.vmt_by_neighborhood(mc, by = by, out_fn = config.out_path +scenario+f'_vmt_by_neighborhood_{by}.csv')\n",
    "        mc_util.pmt_by_neighborhood(mc, by = by, out_fn = config.out_path +scenario+f'_pmt_by_neighborhood_{by}.csv')\n",
    "        mc_util.mode_share_by_neighborhood(mc, by = by , out_fn = config.out_path +scenario+f'_mode_share_nhood_{by}.csv')\n",
    "    try:\n",
    "        os.mkdir(config.out_path + scenario)\n",
    "    except:\n",
    "        pass\n",
    "    mc_util.write_summary_by_subregion(mc,out_path = config.out_path + scenario + '/')\n",
    "    \n",
    "    mc_util.write_trip_tables(mc, r'..\\output\\2040_trips_'+ scenario + '.omx')\n",
    "    \n",
    "    "
   ]
  },
  {
   "cell_type": "code",
   "execution_count": 9,
   "metadata": {},
   "outputs": [
    {
     "data": {
      "text/plain": [
       "dict"
      ]
     },
     "execution_count": 9,
     "metadata": {},
     "output_type": "execute_result"
    }
   ],
   "source": [
    "type(mc.pre_MC_trip_table)"
   ]
  },
  {
   "cell_type": "code",
   "execution_count": null,
   "metadata": {},
   "outputs": [],
   "source": [
    "se.implement_scenarios(mc)"
   ]
  },
  {
   "cell_type": "code",
   "execution_count": 5,
   "metadata": {},
   "outputs": [
    {
     "data": {
      "text/html": [
       "<style  type=\"text/css\" >\n",
       "</style>  \n",
       "<table id=\"T_a1358cde_71c5_11e9_b9a0_9c5c8e97c636\" > \n",
       "<thead>    <tr> \n",
       "        <th class=\"index_name level0\" >mode</th> \n",
       "        <th class=\"col_heading level0 col0\" >DA</th> \n",
       "        <th class=\"col_heading level0 col1\" >SR2</th> \n",
       "        <th class=\"col_heading level0 col2\" >Walk</th> \n",
       "        <th class=\"col_heading level0 col3\" >Bike</th> \n",
       "        <th class=\"col_heading level0 col4\" >WAT</th> \n",
       "        <th class=\"col_heading level0 col5\" >DAT_CR</th> \n",
       "        <th class=\"col_heading level0 col6\" >DAT_RT</th> \n",
       "        <th class=\"col_heading level0 col7\" >DAT_LB</th> \n",
       "    </tr></thead> \n",
       "<tbody>    <tr> \n",
       "        <th id=\"T_a1358cde_71c5_11e9_b9a0_9c5c8e97c636level0_row0\" class=\"row_heading level0 row0\" >0_PK</th> \n",
       "        <td id=\"T_a1358cde_71c5_11e9_b9a0_9c5c8e97c636row0_col0\" class=\"data row0 col0\" >5.34%</td> \n",
       "        <td id=\"T_a1358cde_71c5_11e9_b9a0_9c5c8e97c636row0_col1\" class=\"data row0 col1\" >30.57%</td> \n",
       "        <td id=\"T_a1358cde_71c5_11e9_b9a0_9c5c8e97c636row0_col2\" class=\"data row0 col2\" >19.13%</td> \n",
       "        <td id=\"T_a1358cde_71c5_11e9_b9a0_9c5c8e97c636row0_col3\" class=\"data row0 col3\" >0.28%</td> \n",
       "        <td id=\"T_a1358cde_71c5_11e9_b9a0_9c5c8e97c636row0_col4\" class=\"data row0 col4\" >32.17%</td> \n",
       "        <td id=\"T_a1358cde_71c5_11e9_b9a0_9c5c8e97c636row0_col5\" class=\"data row0 col5\" >4.79%</td> \n",
       "        <td id=\"T_a1358cde_71c5_11e9_b9a0_9c5c8e97c636row0_col6\" class=\"data row0 col6\" >4.06%</td> \n",
       "        <td id=\"T_a1358cde_71c5_11e9_b9a0_9c5c8e97c636row0_col7\" class=\"data row0 col7\" >3.66%</td> \n",
       "    </tr>    <tr> \n",
       "        <th id=\"T_a1358cde_71c5_11e9_b9a0_9c5c8e97c636level0_row1\" class=\"row_heading level0 row1\" >1_PK</th> \n",
       "        <td id=\"T_a1358cde_71c5_11e9_b9a0_9c5c8e97c636row1_col0\" class=\"data row1 col0\" >57.72%</td> \n",
       "        <td id=\"T_a1358cde_71c5_11e9_b9a0_9c5c8e97c636row1_col1\" class=\"data row1 col1\" >19.36%</td> \n",
       "        <td id=\"T_a1358cde_71c5_11e9_b9a0_9c5c8e97c636row1_col2\" class=\"data row1 col2\" >9.50%</td> \n",
       "        <td id=\"T_a1358cde_71c5_11e9_b9a0_9c5c8e97c636row1_col3\" class=\"data row1 col3\" >0.83%</td> \n",
       "        <td id=\"T_a1358cde_71c5_11e9_b9a0_9c5c8e97c636row1_col4\" class=\"data row1 col4\" >10.39%</td> \n",
       "        <td id=\"T_a1358cde_71c5_11e9_b9a0_9c5c8e97c636row1_col5\" class=\"data row1 col5\" >0.60%</td> \n",
       "        <td id=\"T_a1358cde_71c5_11e9_b9a0_9c5c8e97c636row1_col6\" class=\"data row1 col6\" >1.07%</td> \n",
       "        <td id=\"T_a1358cde_71c5_11e9_b9a0_9c5c8e97c636row1_col7\" class=\"data row1 col7\" >0.54%</td> \n",
       "    </tr>    <tr> \n",
       "        <th id=\"T_a1358cde_71c5_11e9_b9a0_9c5c8e97c636level0_row2\" class=\"row_heading level0 row2\" >0_OP</th> \n",
       "        <td id=\"T_a1358cde_71c5_11e9_b9a0_9c5c8e97c636row2_col0\" class=\"data row2 col0\" >4.64%</td> \n",
       "        <td id=\"T_a1358cde_71c5_11e9_b9a0_9c5c8e97c636row2_col1\" class=\"data row2 col1\" >44.05%</td> \n",
       "        <td id=\"T_a1358cde_71c5_11e9_b9a0_9c5c8e97c636row2_col2\" class=\"data row2 col2\" >20.51%</td> \n",
       "        <td id=\"T_a1358cde_71c5_11e9_b9a0_9c5c8e97c636row2_col3\" class=\"data row2 col3\" >0.23%</td> \n",
       "        <td id=\"T_a1358cde_71c5_11e9_b9a0_9c5c8e97c636row2_col4\" class=\"data row2 col4\" >19.29%</td> \n",
       "        <td id=\"T_a1358cde_71c5_11e9_b9a0_9c5c8e97c636row2_col5\" class=\"data row2 col5\" >4.27%</td> \n",
       "        <td id=\"T_a1358cde_71c5_11e9_b9a0_9c5c8e97c636row2_col6\" class=\"data row2 col6\" >3.95%</td> \n",
       "        <td id=\"T_a1358cde_71c5_11e9_b9a0_9c5c8e97c636row2_col7\" class=\"data row2 col7\" >3.06%</td> \n",
       "    </tr>    <tr> \n",
       "        <th id=\"T_a1358cde_71c5_11e9_b9a0_9c5c8e97c636level0_row3\" class=\"row_heading level0 row3\" >1_OP</th> \n",
       "        <td id=\"T_a1358cde_71c5_11e9_b9a0_9c5c8e97c636row3_col0\" class=\"data row3 col0\" >66.70%</td> \n",
       "        <td id=\"T_a1358cde_71c5_11e9_b9a0_9c5c8e97c636row3_col1\" class=\"data row3 col1\" >17.81%</td> \n",
       "        <td id=\"T_a1358cde_71c5_11e9_b9a0_9c5c8e97c636row3_col2\" class=\"data row3 col2\" >3.11%</td> \n",
       "        <td id=\"T_a1358cde_71c5_11e9_b9a0_9c5c8e97c636row3_col3\" class=\"data row3 col3\" >0.93%</td> \n",
       "        <td id=\"T_a1358cde_71c5_11e9_b9a0_9c5c8e97c636row3_col4\" class=\"data row3 col4\" >9.64%</td> \n",
       "        <td id=\"T_a1358cde_71c5_11e9_b9a0_9c5c8e97c636row3_col5\" class=\"data row3 col5\" >0.42%</td> \n",
       "        <td id=\"T_a1358cde_71c5_11e9_b9a0_9c5c8e97c636row3_col6\" class=\"data row3 col6\" >0.93%</td> \n",
       "        <td id=\"T_a1358cde_71c5_11e9_b9a0_9c5c8e97c636row3_col7\" class=\"data row3 col7\" >0.45%</td> \n",
       "    </tr></tbody> \n",
       "</table> "
      ],
      "text/plain": [
       "<pandas.io.formats.style.Styler at 0x1bacb589ef0>"
      ]
     },
     "metadata": {},
     "output_type": "display_data"
    }
   ],
   "source": [
    "mc_util.display_mode_share(mc)"
   ]
  },
  {
   "cell_type": "code",
   "execution_count": 8,
   "metadata": {},
   "outputs": [],
   "source": [
    "mc_util.write_mode_share_to_excel(mc,purpose = 'all',out_excel_fn = config.out_path + 'mode_share_transit_improv.xlsx')"
   ]
  },
  {
   "cell_type": "code",
   "execution_count": 5,
   "metadata": {
    "scrolled": true
   },
   "outputs": [
    {
     "name": "stderr",
     "output_type": "stream",
     "text": [
      "C:\\ProgramData\\Anaconda3\\lib\\site-packages\\pandas\\core\\frame.py:6211: FutureWarning: Sorting because non-concatenation axis is not aligned. A future version\n",
      "of pandas will change to not sort by default.\n",
      "\n",
      "To accept the future behavior, pass 'sort=False'.\n",
      "\n",
      "To retain the current behavior and silence the warning, pass 'sort=True'.\n",
      "\n",
      "  sort=sort)\n"
     ]
    }
   ],
   "source": [
    "mc_util.vmt_by_neighborhood(mc, by = 'purpose')"
   ]
  },
  {
   "cell_type": "code",
   "execution_count": 6,
   "metadata": {},
   "outputs": [],
   "source": [
    "mc_util.pmt_by_neighborhood(mc, by = 'veh_own')"
   ]
  },
  {
   "cell_type": "code",
   "execution_count": 7,
   "metadata": {},
   "outputs": [],
   "source": [
    "mc_util.mode_share_by_neighborhood(mc, by = 'peak')"
   ]
  },
  {
   "cell_type": "code",
   "execution_count": null,
   "metadata": {},
   "outputs": [],
   "source": []
  },
  {
   "cell_type": "code",
   "execution_count": null,
   "metadata": {},
   "outputs": [],
   "source": []
  },
  {
   "cell_type": "code",
   "execution_count": null,
   "metadata": {},
   "outputs": [],
   "source": []
  },
  {
   "cell_type": "code",
   "execution_count": null,
   "metadata": {},
   "outputs": [],
   "source": [
    "mc_util.write_summary_by_subregion(mc)"
   ]
  },
  {
   "cell_type": "code",
   "execution_count": null,
   "metadata": {},
   "outputs": [],
   "source": [
    "mc_util.transit_ridership(mc)"
   ]
  },
  {
   "cell_type": "code",
   "execution_count": 11,
   "metadata": {},
   "outputs": [],
   "source": [
    "mc_util.write_trip_tables(mc, r'..\\output\\2040_trips_no_scenario.omx')"
   ]
  },
  {
   "cell_type": "code",
   "execution_count": null,
   "metadata": {},
   "outputs": [],
   "source": []
  }
 ],
 "metadata": {
  "kernelspec": {
   "display_name": "Python 3",
   "language": "python",
   "name": "python3"
  },
  "language_info": {
   "codemirror_mode": {
    "name": "ipython",
    "version": 3
   },
   "file_extension": ".py",
   "mimetype": "text/x-python",
   "name": "python",
   "nbconvert_exporter": "python",
   "pygments_lexer": "ipython3",
   "version": "3.6.5"
  },
  "toc": {
   "base_numbering": 1,
   "nav_menu": {},
   "number_sections": true,
   "sideBar": true,
   "skip_h1_title": false,
   "title_cell": "Table of Contents",
   "title_sidebar": "Contents",
   "toc_cell": false,
   "toc_position": {},
   "toc_section_display": true,
   "toc_window_display": false
  }
 },
 "nbformat": 4,
 "nbformat_minor": 2
}
